{
 "cells": [
  {
   "cell_type": "markdown",
   "id": "d708f3ff",
   "metadata": {},
   "source": [
    "# 통계 기반 기법"
   ]
  },
  {
   "cell_type": "code",
   "execution_count": 1,
   "id": "ba70b336",
   "metadata": {
    "ExecuteTime": {
     "end_time": "2023-09-22T04:38:12.192879Z",
     "start_time": "2023-09-22T04:38:12.173515Z"
    }
   },
   "outputs": [],
   "source": [
    "import numpy as np"
   ]
  },
  {
   "cell_type": "markdown",
   "id": "d35b4075",
   "metadata": {},
   "source": [
    "## 말뭉치를 이용하기 위한 사전 준비"
   ]
  },
  {
   "cell_type": "code",
   "execution_count": 2,
   "id": "381dafde",
   "metadata": {
    "ExecuteTime": {
     "end_time": "2023-09-22T04:38:12.799284Z",
     "start_time": "2023-09-22T04:38:12.781382Z"
    }
   },
   "outputs": [],
   "source": [
    "def preprocess(text):\n",
    "    text = text.lower()\n",
    "    text = text.replace('.', ' .')\n",
    "    words = text.split(' ')\n",
    "    \n",
    "    word_to_id = {}\n",
    "    id_to_word = {}\n",
    "\n",
    "    for word in words:\n",
    "        if word not in word_to_id:\n",
    "            new_id = len(word_to_id)\n",
    "            word_to_id[word] = new_id\n",
    "            id_to_word[new_id] = word\n",
    "            \n",
    "    corpus = np.array([word_to_id[w] for w in words])\n",
    "    \n",
    "    return corpus, word_to_id, id_to_word"
   ]
  },
  {
   "cell_type": "code",
   "execution_count": 3,
   "id": "c7a0151a",
   "metadata": {
    "ExecuteTime": {
     "end_time": "2023-09-22T04:38:13.077683Z",
     "start_time": "2023-09-22T04:38:13.066487Z"
    }
   },
   "outputs": [],
   "source": [
    "text = 'You say goodbye and I say hello.'"
   ]
  },
  {
   "cell_type": "code",
   "execution_count": 4,
   "id": "eacddc4b",
   "metadata": {
    "ExecuteTime": {
     "end_time": "2023-09-22T04:38:13.294426Z",
     "start_time": "2023-09-22T04:38:13.280479Z"
    }
   },
   "outputs": [],
   "source": [
    "corpus, word_to_id, id_to_word = preprocess(text)"
   ]
  },
  {
   "cell_type": "code",
   "execution_count": 5,
   "id": "df2340a9",
   "metadata": {
    "ExecuteTime": {
     "end_time": "2023-09-22T04:38:13.576412Z",
     "start_time": "2023-09-22T04:38:13.554163Z"
    }
   },
   "outputs": [
    {
     "data": {
      "text/plain": [
       "array([0, 1, 2, 3, 4, 1, 5, 6])"
      ]
     },
     "execution_count": 5,
     "metadata": {},
     "output_type": "execute_result"
    }
   ],
   "source": [
    "corpus"
   ]
  },
  {
   "cell_type": "code",
   "execution_count": 6,
   "id": "af7604df",
   "metadata": {
    "ExecuteTime": {
     "end_time": "2023-09-22T04:38:13.997057Z",
     "start_time": "2023-09-22T04:38:13.987337Z"
    }
   },
   "outputs": [
    {
     "data": {
      "text/plain": [
       "{'you': 0, 'say': 1, 'goodbye': 2, 'and': 3, 'i': 4, 'hello': 5, '.': 6}"
      ]
     },
     "execution_count": 6,
     "metadata": {},
     "output_type": "execute_result"
    }
   ],
   "source": [
    "word_to_id"
   ]
  },
  {
   "cell_type": "code",
   "execution_count": 7,
   "id": "b4454b78",
   "metadata": {
    "ExecuteTime": {
     "end_time": "2023-09-22T04:38:14.369426Z",
     "start_time": "2023-09-22T04:38:14.356340Z"
    }
   },
   "outputs": [
    {
     "data": {
      "text/plain": [
       "{0: 'you', 1: 'say', 2: 'goodbye', 3: 'and', 4: 'i', 5: 'hello', 6: '.'}"
      ]
     },
     "execution_count": 7,
     "metadata": {},
     "output_type": "execute_result"
    }
   ],
   "source": [
    "id_to_word"
   ]
  },
  {
   "cell_type": "markdown",
   "id": "b0b24374",
   "metadata": {},
   "source": [
    "## 동시발생 행렬"
   ]
  },
  {
   "cell_type": "code",
   "execution_count": 18,
   "id": "984cebe7",
   "metadata": {
    "ExecuteTime": {
     "end_time": "2023-09-22T04:47:57.523972Z",
     "start_time": "2023-09-22T04:47:57.508791Z"
    }
   },
   "outputs": [],
   "source": [
    "def create_co_matrix(corpus, vocab_size, window_size=1):\n",
    "    corpus_size = len(corpus)\n",
    "    co_matrix = np.zeros((vocab_size, vocab_size), dtype=np.int32)\n",
    "    \n",
    "    for idx, word_id in enumerate(corpus):\n",
    "        for i in range(1, window_size+1):\n",
    "            left_idx = idx-i\n",
    "            right_idx = idx+1\n",
    "            \n",
    "            if left_idx >= 0:\n",
    "                left_word_id = corpus[left_idx]\n",
    "                co_matrix[word_id, left_word_id] += 1\n",
    "            \n",
    "            if right_idx < corpus_size:\n",
    "                right_word_id = corpus[right_idx]\n",
    "                co_matrix[word_id, right_word_id] += 1\n",
    "    \n",
    "    return co_matrix"
   ]
  },
  {
   "cell_type": "markdown",
   "id": "587727f5",
   "metadata": {},
   "source": [
    "## 백터 간 유사도"
   ]
  },
  {
   "cell_type": "code",
   "execution_count": 19,
   "id": "e3613c09",
   "metadata": {
    "ExecuteTime": {
     "end_time": "2023-09-22T04:47:58.053745Z",
     "start_time": "2023-09-22T04:47:58.034787Z"
    }
   },
   "outputs": [],
   "source": [
    "def cos_similarity(x, y, eps=1e-8):\n",
    "    nx = x / (np.sqrt(np.sum(x ** 2)) + eps)\n",
    "    ny = y / (np.sqrt(np.sum(y ** 2)) + eps)\n",
    "    return np.dot(nx, ny)"
   ]
  },
  {
   "cell_type": "code",
   "execution_count": 20,
   "id": "a8417f80",
   "metadata": {
    "ExecuteTime": {
     "end_time": "2023-09-22T04:47:58.350782Z",
     "start_time": "2023-09-22T04:47:58.332321Z"
    }
   },
   "outputs": [],
   "source": [
    "vocab_size = len(word_to_id)"
   ]
  },
  {
   "cell_type": "code",
   "execution_count": 21,
   "id": "e9647ff8",
   "metadata": {
    "ExecuteTime": {
     "end_time": "2023-09-22T04:47:58.676251Z",
     "start_time": "2023-09-22T04:47:58.669175Z"
    }
   },
   "outputs": [],
   "source": [
    "C = create_co_matrix(corpus, vocab_size)"
   ]
  },
  {
   "cell_type": "code",
   "execution_count": 22,
   "id": "b6bc22e0",
   "metadata": {
    "ExecuteTime": {
     "end_time": "2023-09-22T04:48:00.789035Z",
     "start_time": "2023-09-22T04:48:00.781003Z"
    }
   },
   "outputs": [
    {
     "data": {
      "text/plain": [
       "array([[0, 1, 0, 0, 0, 0, 0],\n",
       "       [1, 0, 1, 0, 1, 1, 0],\n",
       "       [0, 1, 0, 1, 0, 0, 0],\n",
       "       [0, 0, 1, 0, 1, 0, 0],\n",
       "       [0, 1, 0, 1, 0, 0, 0],\n",
       "       [0, 1, 0, 0, 0, 0, 1],\n",
       "       [0, 0, 0, 0, 0, 1, 0]])"
      ]
     },
     "execution_count": 22,
     "metadata": {},
     "output_type": "execute_result"
    }
   ],
   "source": [
    "C"
   ]
  },
  {
   "cell_type": "markdown",
   "id": "28b719a6",
   "metadata": {},
   "source": [
    "## 유사 단어 랭킹 표시"
   ]
  },
  {
   "cell_type": "code",
   "execution_count": 29,
   "id": "5601c58f",
   "metadata": {
    "ExecuteTime": {
     "end_time": "2023-09-22T05:07:00.252754Z",
     "start_time": "2023-09-22T05:07:00.241287Z"
    }
   },
   "outputs": [],
   "source": [
    "def most_similar(query, word_to_id, id_to_word, word_matrix, top=5):\n",
    "    if query not in word_to_id:\n",
    "        print('%s (을)를 찾을 수 없습니다.' % query)\n",
    "        return\n",
    "    \n",
    "    print('\\n[query] '+query)\n",
    "    query_id = word_to_id[query]\n",
    "    query_vec = word_matrix[query_id]\n",
    "    \n",
    "    # 코사인 유사도 계산\n",
    "    vocab_size = len(id_to_word)\n",
    "    similarity = np.zeros(vocab_size)\n",
    "    for i in range(vocab_size):\n",
    "        similarity[i] = cos_similarity(word_matrix[i], query_vec)\n",
    "    \n",
    "    count = 0\n",
    "    for i in (-1 * similarity).argsort():\n",
    "        if id_to_word[i] == query:\n",
    "            continue\n",
    "        print(' %s: %s' % (id_to_word[i], similarity[i]))\n",
    "        \n",
    "        count += 1\n",
    "        if count >= top:\n",
    "            return"
   ]
  },
  {
   "cell_type": "code",
   "execution_count": 30,
   "id": "b37463f3",
   "metadata": {
    "ExecuteTime": {
     "end_time": "2023-09-22T05:07:01.548230Z",
     "start_time": "2023-09-22T05:07:01.524420Z"
    }
   },
   "outputs": [
    {
     "name": "stdout",
     "output_type": "stream",
     "text": [
      "\n",
      "[query] you\n",
      " goodbye: 0.7071067691154799\n",
      " i: 0.7071067691154799\n",
      " hello: 0.7071067691154799\n",
      " say: 0.0\n",
      " and: 0.0\n"
     ]
    }
   ],
   "source": [
    "most_similar('you', word_to_id, id_to_word, C, top=5)"
   ]
  },
  {
   "cell_type": "markdown",
   "id": "68229cd5",
   "metadata": {},
   "source": [
    "# 통계 기반 기법 개선하기"
   ]
  },
  {
   "cell_type": "code",
   "execution_count": 35,
   "id": "91f6a0a2",
   "metadata": {
    "ExecuteTime": {
     "end_time": "2023-09-22T05:21:11.388851Z",
     "start_time": "2023-09-22T05:21:11.378456Z"
    }
   },
   "outputs": [],
   "source": [
    "def ppmi(C, verbose=False, eps=1e-8):\n",
    "    M = np.zeros_like(C, dtype=np.float32)\n",
    "    N = np.sum(C)\n",
    "    S = np.sum(C, axis=0)\n",
    "    total = C.shape[0] * C.shape[1]\n",
    "    cnt = 0\n",
    "    \n",
    "    for i in range(C.shape[0]):\n",
    "        for j in range(C.shape[1]):\n",
    "            pmi = np.log2(C[i, j] * N / (S[j] * S[i]) + eps)\n",
    "            M[i, j] = max(0, pmi)\n",
    "            \n",
    "            if verbose:\n",
    "                cnt += 1\n",
    "                if cnt % (total/100) == 0:\n",
    "                    print('%.1f%% 완료' % (100*cnt/total))\n",
    "    return M"
   ]
  },
  {
   "cell_type": "code",
   "execution_count": 36,
   "id": "7d2af20d",
   "metadata": {
    "ExecuteTime": {
     "end_time": "2023-09-22T05:21:11.825124Z",
     "start_time": "2023-09-22T05:21:11.803019Z"
    }
   },
   "outputs": [],
   "source": [
    "W = ppmi(C)"
   ]
  },
  {
   "cell_type": "code",
   "execution_count": 41,
   "id": "5038f529",
   "metadata": {
    "ExecuteTime": {
     "end_time": "2023-09-22T05:22:13.301965Z",
     "start_time": "2023-09-22T05:22:13.293955Z"
    }
   },
   "outputs": [],
   "source": [
    "np.set_printoptions(precision=3)"
   ]
  },
  {
   "cell_type": "code",
   "execution_count": 42,
   "id": "0f0d9215",
   "metadata": {
    "ExecuteTime": {
     "end_time": "2023-09-22T05:22:14.486254Z",
     "start_time": "2023-09-22T05:22:14.469504Z"
    }
   },
   "outputs": [
    {
     "name": "stdout",
     "output_type": "stream",
     "text": [
      "[[0.    1.807 0.    0.    0.    0.    0.   ]\n",
      " [1.807 0.    0.807 0.    0.807 0.807 0.   ]\n",
      " [0.    0.807 0.    1.807 0.    0.    0.   ]\n",
      " [0.    0.    1.807 0.    1.807 0.    0.   ]\n",
      " [0.    0.807 0.    1.807 0.    0.    0.   ]\n",
      " [0.    0.807 0.    0.    0.    0.    2.807]\n",
      " [0.    0.    0.    0.    0.    2.807 0.   ]]\n"
     ]
    }
   ],
   "source": [
    "print(W)"
   ]
  },
  {
   "cell_type": "markdown",
   "id": "9f3fcc02",
   "metadata": {},
   "source": [
    "# 차원감소"
   ]
  },
  {
   "cell_type": "code",
   "execution_count": 65,
   "id": "d4da9c94",
   "metadata": {
    "ExecuteTime": {
     "end_time": "2023-09-22T05:37:29.192910Z",
     "start_time": "2023-09-22T05:37:29.171022Z"
    }
   },
   "outputs": [],
   "source": [
    "try:\n",
    "    # 빠른 code\n",
    "    from sklearn.utils.extmath import randomized_svd\n",
    "    wordvec_size = 2\n",
    "    U, S, V = randomized_svd(W, n_components=wordvec_size, n_iter=5, random_state=None)\n",
    "except ImportError:\n",
    "    # 느린 code\n",
    "    U, S, V = np.linalg.svd(W)"
   ]
  },
  {
   "cell_type": "code",
   "execution_count": 67,
   "id": "e353e545",
   "metadata": {
    "ExecuteTime": {
     "end_time": "2023-09-22T05:37:30.534159Z",
     "start_time": "2023-09-22T05:37:30.522986Z"
    }
   },
   "outputs": [],
   "source": [
    "import matplotlib.pyplot as plt"
   ]
  },
  {
   "cell_type": "code",
   "execution_count": 68,
   "id": "6e8a4328",
   "metadata": {
    "ExecuteTime": {
     "end_time": "2023-09-22T05:37:31.001109Z",
     "start_time": "2023-09-22T05:37:30.733529Z"
    }
   },
   "outputs": [
    {
     "data": {
      "image/png": "[encoded data removed]",
      "text/plain": [
       "<Figure size 432x288 with 1 Axes>"
      ]
     },
     "metadata": {
      "needs_background": "light"
     },
     "output_type": "display_data"
    }
   ],
   "source": [
    "for word, word_id in word_to_id.items():\n",
    "    plt.annotate(word, (U[word_id, 0], U[word_id, 1]))\n",
    "\n",
    "plt.scatter(U[:,0], U[:, 1], alpha=0.5)\n",
    "plt.show()"
   ]
  }
 ],
 "metadata": {
  "hide_input": false,
  "kernelspec": {
   "display_name": "Python 3 (ipykernel)",
   "language": "python",
   "name": "python3"
  },
  "language_info": {
   "codemirror_mode": {
    "name": "ipython",
    "version": 3
   },
   "file_extension": ".py",
   "mimetype": "text/x-python",
   "name": "python",
   "nbconvert_exporter": "python",
   "pygments_lexer": "ipython3",
   "version": "3.9.12"
  },
  "toc": {
   "base_numbering": 1,
   "nav_menu": {},
   "number_sections": true,
   "sideBar": true,
   "skip_h1_title": false,
   "title_cell": "Table of Contents",
   "title_sidebar": "Contents",
   "toc_cell": false,
   "toc_position": {},
   "toc_section_display": true,
   "toc_window_display": true
  },
  "varInspector": {
   "cols": {
    "lenName": 16,
    "lenType": 16,
    "lenVar": 40
   },
   "kernels_config": {
    "python": {
     "delete_cmd_postfix": "",
     "delete_cmd_prefix": "del ",
     "library": "var_list.py",
     "varRefreshCmd": "print(var_dic_list())"
    },
    "r": {
     "delete_cmd_postfix": ") ",
     "delete_cmd_prefix": "rm(",
     "library": "var_list.r",
     "varRefreshCmd": "cat(var_dic_list()) "
    }
   },
   "types_to_exclude": [
    "module",
    "function",
    "builtin_function_or_method",
    "instance",
    "_Feature"
   ],
   "window_display": false
  }
 },
 "nbformat": 4,
 "nbformat_minor": 5
}
