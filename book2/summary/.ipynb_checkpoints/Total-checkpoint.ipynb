{
 "cells": [
  {
   "cell_type": "code",
   "execution_count": 1,
   "id": "c32d3731",
   "metadata": {
    "ExecuteTime": {
     "end_time": "2023-10-21T05:04:31.295891Z",
     "start_time": "2023-10-21T05:04:31.282894Z"
    }
   },
   "outputs": [],
   "source": [
    "import numpy as np"
   ]
  },
  {
   "cell_type": "code",
   "execution_count": 2,
   "id": "08001204",
   "metadata": {
    "ExecuteTime": {
     "end_time": "2023-10-21T05:04:31.311439Z",
     "start_time": "2023-10-21T05:04:31.299892Z"
    }
   },
   "outputs": [],
   "source": [
    "text = 'You say goodbye and I say hello.'"
   ]
  },
  {
   "cell_type": "markdown",
   "id": "92ecf547",
   "metadata": {},
   "source": [
    "# 전처리"
   ]
  },
  {
   "cell_type": "code",
   "execution_count": 3,
   "id": "d531819f",
   "metadata": {
    "ExecuteTime": {
     "end_time": "2023-10-21T05:04:31.327285Z",
     "start_time": "2023-10-21T05:04:31.314439Z"
    }
   },
   "outputs": [],
   "source": [
    "def preprocess(text):\n",
    "    text = text.lower()\n",
    "    text = text.replace('.', ' .')\n",
    "    words = text.split(' ')\n",
    "    \n",
    "    word_to_id = {}\n",
    "    id_to_word = {}\n",
    "    \n",
    "    for word in words:\n",
    "        if word not in word_to_id:\n",
    "            new_id = len(word_to_id)\n",
    "            word_to_id[word] = new_id\n",
    "            id_to_word[new_id] = word\n",
    "    \n",
    "    corpus = np.array([word_to_id[w] for w in words])\n",
    "    \n",
    "    return corpus, word_to_id, id_to_word"
   ]
  },
  {
   "cell_type": "code",
   "execution_count": 4,
   "id": "afd32129",
   "metadata": {
    "ExecuteTime": {
     "end_time": "2023-10-21T05:04:31.343187Z",
     "start_time": "2023-10-21T05:04:31.330286Z"
    }
   },
   "outputs": [
    {
     "name": "stdout",
     "output_type": "stream",
     "text": [
      "corpus : [0 1 2 3 4 1 5 6]\n",
      "word_to_id : {'you': 0, 'say': 1, 'goodbye': 2, 'and': 3, 'i': 4, 'hello': 5, '.': 6}\n",
      "id_to_word : {0: 'you', 1: 'say', 2: 'goodbye', 3: 'and', 4: 'i', 5: 'hello', 6: '.'}\n"
     ]
    }
   ],
   "source": [
    "corpus, word_to_id, id_to_word = preprocess(text)\n",
    "print(\"corpus :\", corpus)\n",
    "print(\"word_to_id :\", word_to_id)\n",
    "print(\"id_to_word :\", id_to_word)"
   ]
  },
  {
   "cell_type": "markdown",
   "id": "909dbc80",
   "metadata": {},
   "source": [
    "# 동시발생 행렬"
   ]
  },
  {
   "cell_type": "code",
   "execution_count": 5,
   "id": "ea56ec2a",
   "metadata": {
    "ExecuteTime": {
     "end_time": "2023-10-21T05:04:31.358702Z",
     "start_time": "2023-10-21T05:04:31.345189Z"
    }
   },
   "outputs": [],
   "source": [
    "def create_co_matrix(corpus, vacab_size, window_size=1):\n",
    "    corpus_size = len(corpus)\n",
    "    co_matrix = np.zeros((vocab_size, vocab_size), dtype=np.int32)\n",
    "    \n",
    "    for idx, word_id in enumerate(corpus):\n",
    "        for i in range(1, window_size+1):\n",
    "            left_idx = idx-i\n",
    "            right_idx = idx+i\n",
    "            \n",
    "            if left_idx >= 0:\n",
    "                left_word_id = corpus[left_idx]\n",
    "                co_matrix[word_id, left_word_id] += 1\n",
    "            \n",
    "            if right_idx < corpus_size:\n",
    "                right_word_id = corpus[right_idx]\n",
    "                co_matrix[word_id, right_word_id] += 1\n",
    "    \n",
    "    return co_matrix"
   ]
  },
  {
   "cell_type": "code",
   "execution_count": 6,
   "id": "35809ff3",
   "metadata": {
    "ExecuteTime": {
     "end_time": "2023-10-21T05:04:31.374709Z",
     "start_time": "2023-10-21T05:04:31.360701Z"
    }
   },
   "outputs": [
    {
     "data": {
      "text/plain": [
       "array([[0, 1, 0, 0, 0, 0, 0],\n",
       "       [1, 0, 1, 0, 1, 1, 0],\n",
       "       [0, 1, 0, 1, 0, 0, 0],\n",
       "       [0, 0, 1, 0, 1, 0, 0],\n",
       "       [0, 1, 0, 1, 0, 0, 0],\n",
       "       [0, 1, 0, 0, 0, 0, 1],\n",
       "       [0, 0, 0, 0, 0, 1, 0]])"
      ]
     },
     "execution_count": 6,
     "metadata": {},
     "output_type": "execute_result"
    }
   ],
   "source": [
    "vocab_size = len(word_to_id)\n",
    "\n",
    "C = create_co_matrix(corpus, vocab_size)\n",
    "\n",
    "C"
   ]
  },
  {
   "cell_type": "markdown",
   "id": "409bd2c2",
   "metadata": {},
   "source": [
    "# 벡터 간 유사도"
   ]
  },
  {
   "cell_type": "code",
   "execution_count": 7,
   "id": "9fda6c48",
   "metadata": {
    "ExecuteTime": {
     "end_time": "2023-10-21T05:06:09.699230Z",
     "start_time": "2023-10-21T05:06:09.692669Z"
    }
   },
   "outputs": [],
   "source": [
    "def cos_similarity(x, y, eps=1e-8):\n",
    "    nx = x / (np.sqrt(np.sum(x ** 2)) + eps)\n",
    "    ny = y / (np.sqrt(np.sum(y ** 2)) + eps)\n",
    "    return np.dot(nx, ny)"
   ]
  },
  {
   "cell_type": "markdown",
   "id": "86fdbfc9",
   "metadata": {},
   "source": [
    "## 유사 단어 랭킹 표시"
   ]
  },
  {
   "cell_type": "code",
   "execution_count": 10,
   "id": "36a0ba42",
   "metadata": {
    "ExecuteTime": {
     "end_time": "2023-10-21T05:12:56.811769Z",
     "start_time": "2023-10-21T05:12:56.791865Z"
    }
   },
   "outputs": [],
   "source": [
    "def most_similar(query, word_to_id, id_to_word, word_matrix, top=5):\n",
    "    if query not in word_to_id :\n",
    "        print(\"%s (을)를 찾을 수 없습니다.\" % query)\n",
    "        return\n",
    "    \n",
    "    print('\\n[query] '+query)\n",
    "    query_id = word_to_id[query]\n",
    "    query_vec = word_matrix[query_id]\n",
    "    \n",
    "    # 코사인 유사도 계산\n",
    "    vocab_size = len(id_to_word)\n",
    "    similarity = np.zeros(vocab_size)\n",
    "    \n",
    "    for i in range(vocab_size):\n",
    "        similarity[i] = cos_similarity(word_matrix[i], query_vec)\n",
    "    \n",
    "    count = 0\n",
    "    for i in (-1 * similarity).argsort():\n",
    "        if id_to_word[i] == query:\n",
    "            continue\n",
    "        print(' %s: %s' % (id_to_word[i], similarity[i]))\n",
    "        \n",
    "        \n",
    "        count += 1\n",
    "        if count >= top:\n",
    "            return"
   ]
  },
  {
   "cell_type": "code",
   "execution_count": 11,
   "id": "2ec2affc",
   "metadata": {
    "ExecuteTime": {
     "end_time": "2023-10-21T05:12:57.562358Z",
     "start_time": "2023-10-21T05:12:57.546575Z"
    }
   },
   "outputs": [
    {
     "name": "stdout",
     "output_type": "stream",
     "text": [
      "\n",
      "[query] you\n",
      " goodbye: 0.7071067691154799\n",
      " i: 0.7071067691154799\n",
      " hello: 0.7071067691154799\n",
      " say: 0.0\n",
      " and: 0.0\n"
     ]
    }
   ],
   "source": [
    "most_similar('you', word_to_id, id_to_word, C, top=5)"
   ]
  },
  {
   "cell_type": "markdown",
   "id": "ec87bf84",
   "metadata": {},
   "source": [
    "# 동시발생 행렬 개선 -> PPMI"
   ]
  },
  {
   "cell_type": "code",
   "execution_count": 12,
   "id": "c5264486",
   "metadata": {
    "ExecuteTime": {
     "end_time": "2023-10-21T05:16:00.453631Z",
     "start_time": "2023-10-21T05:16:00.439525Z"
    }
   },
   "outputs": [],
   "source": [
    "def ppmi(C, verbose=False, eps=1e-8):\n",
    "    M = np.zeros_like(C, dtype=np.float32)\n",
    "    N = np.sum(C)\n",
    "    S = np.sum(C, axis=0)\n",
    "    total = C.shape[0] * C.shape[1]\n",
    "    cnt = 0\n",
    "\n",
    "    for i in range(C.shape[0]):\n",
    "        for j in range(C.shape[1]):\n",
    "            pmi = np.log2(C[i, j] * N / (S[j] * S[i]) + eps)\n",
    "            M[i, j] = max(0, pmi)\n",
    "\n",
    "            if verbose:\n",
    "                cnt += 1\n",
    "                if cnt % (total/100) == 0:\n",
    "                    print('%.1f%% 완료' % (100*cnt/total))\n",
    "    return M"
   ]
  },
  {
   "cell_type": "code",
   "execution_count": 13,
   "id": "7322592a",
   "metadata": {
    "ExecuteTime": {
     "end_time": "2023-10-21T05:16:06.111995Z",
     "start_time": "2023-10-21T05:16:06.102887Z"
    }
   },
   "outputs": [],
   "source": [
    "W = ppmi(C)"
   ]
  },
  {
   "cell_type": "code",
   "execution_count": 15,
   "id": "04b9cac2",
   "metadata": {
    "ExecuteTime": {
     "end_time": "2023-10-21T05:16:23.219855Z",
     "start_time": "2023-10-21T05:16:23.216851Z"
    }
   },
   "outputs": [],
   "source": [
    "np.set_printoptions(precision=3)"
   ]
  },
  {
   "cell_type": "code",
   "execution_count": 16,
   "id": "1a522940",
   "metadata": {
    "ExecuteTime": {
     "end_time": "2023-10-21T05:16:25.604418Z",
     "start_time": "2023-10-21T05:16:25.587939Z"
    }
   },
   "outputs": [
    {
     "name": "stdout",
     "output_type": "stream",
     "text": [
      "[[0.    1.807 0.    0.    0.    0.    0.   ]\n",
      " [1.807 0.    0.807 0.    0.807 0.807 0.   ]\n",
      " [0.    0.807 0.    1.807 0.    0.    0.   ]\n",
      " [0.    0.    1.807 0.    1.807 0.    0.   ]\n",
      " [0.    0.807 0.    1.807 0.    0.    0.   ]\n",
      " [0.    0.807 0.    0.    0.    0.    2.807]\n",
      " [0.    0.    0.    0.    0.    2.807 0.   ]]\n"
     ]
    }
   ],
   "source": [
    "print(W)"
   ]
  },
  {
   "cell_type": "markdown",
   "id": "81e10360",
   "metadata": {},
   "source": [
    "# 차원감소"
   ]
  },
  {
   "cell_type": "code",
   "execution_count": 17,
   "id": "77eb214c",
   "metadata": {
    "ExecuteTime": {
     "end_time": "2023-10-21T05:22:17.120275Z",
     "start_time": "2023-10-21T05:22:14.481232Z"
    }
   },
   "outputs": [],
   "source": [
    "try:\n",
    "    # 빠른 code\n",
    "    from sklearn.utils.extmath import randomized_svd\n",
    "    wordvec_size = 2\n",
    "    U, S, V = randomized_svd(\n",
    "        W, n_components=wordvec_size, n_iter=5, random_state=None)\n",
    "except ImportError:\n",
    "    # 느린 code\n",
    "    U, S, V = np.linalg.svd(W)"
   ]
  },
  {
   "cell_type": "code",
   "execution_count": 18,
   "id": "18850929",
   "metadata": {
    "ExecuteTime": {
     "end_time": "2023-10-21T05:22:23.418119Z",
     "start_time": "2023-10-21T05:22:22.531042Z"
    }
   },
   "outputs": [],
   "source": [
    "import matplotlib.pyplot as plt\n",
    "\n",
    "plt.rc('font', family='Malgun Gothic') # 폰트 지정\n",
    "plt.rc('axes', unicode_minus=False) # 마이너스 폰트 설정\n",
    "%config InlineBackend.figure_format='retina' # 그래프 글씨 뚜렷"
   ]
  },
  {
   "cell_type": "code",
   "execution_count": 19,
   "id": "a274d7d8",
   "metadata": {
    "ExecuteTime": {
     "end_time": "2023-10-21T05:22:25.980001Z",
     "start_time": "2023-10-21T05:22:25.835235Z"
    }
   },
   "outputs": [
    {
     "data": {
      "image/png": "[encoded data removed]",
      "text/plain": [
       "<Figure size 432x288 with 1 Axes>"
      ]
     },
     "metadata": {
      "image/png": {
       "height": 249,
       "width": 376
      },
      "needs_background": "light"
     },
     "output_type": "display_data"
    }
   ],
   "source": [
    "for word, word_id in word_to_id.items():\n",
    "    plt.annotate(word, (U[word_id, 0], U[word_id, 1]))\n",
    "\n",
    "plt.scatter(U[:, 0], U[:, 1], alpha=0.5)\n",
    "plt.show()"
   ]
  },
  {
   "cell_type": "markdown",
   "id": "084f3375",
   "metadata": {},
   "source": [
    "# CBOW"
   ]
  },
  {
   "cell_type": "code",
   "execution_count": null,
   "id": "7469c62d",
   "metadata": {},
   "outputs": [],
   "source": []
  }
 ],
 "metadata": {
  "hide_input": false,
  "kernelspec": {
   "display_name": "Python 3 (ipykernel)",
   "language": "python",
   "name": "python3"
  },
  "language_info": {
   "codemirror_mode": {
    "name": "ipython",
    "version": 3
   },
   "file_extension": ".py",
   "mimetype": "text/x-python",
   "name": "python",
   "nbconvert_exporter": "python",
   "pygments_lexer": "ipython3",
   "version": "3.9.12"
  },
  "toc": {
   "base_numbering": 1,
   "nav_menu": {},
   "number_sections": true,
   "sideBar": true,
   "skip_h1_title": false,
   "title_cell": "Table of Contents",
   "title_sidebar": "Contents",
   "toc_cell": false,
   "toc_position": {},
   "toc_section_display": true,
   "toc_window_display": true
  },
  "varInspector": {
   "cols": {
    "lenName": 16,
    "lenType": 16,
    "lenVar": 40
   },
   "kernels_config": {
    "python": {
     "delete_cmd_postfix": "",
     "delete_cmd_prefix": "del ",
     "library": "var_list.py",
     "varRefreshCmd": "print(var_dic_list())"
    },
    "r": {
     "delete_cmd_postfix": ") ",
     "delete_cmd_prefix": "rm(",
     "library": "var_list.r",
     "varRefreshCmd": "cat(var_dic_list()) "
    }
   },
   "types_to_exclude": [
    "module",
    "function",
    "builtin_function_or_method",
    "instance",
    "_Feature"
   ],
   "window_display": false
  }
 },
 "nbformat": 4,
 "nbformat_minor": 5
}
