{
 "cells": [
  {
   "cell_type": "code",
   "execution_count": 1,
   "id": "c32d3731",
   "metadata": {
    "ExecuteTime": {
     "end_time": "2023-10-26T09:34:38.249996Z",
     "start_time": "2023-10-26T09:34:38.242355Z"
    }
   },
   "outputs": [],
   "source": [
    "import numpy as np"
   ]
  },
  {
   "cell_type": "code",
   "execution_count": 2,
   "id": "08001204",
   "metadata": {
    "ExecuteTime": {
     "end_time": "2023-10-26T09:34:38.265152Z",
     "start_time": "2023-10-26T09:34:38.252041Z"
    }
   },
   "outputs": [],
   "source": [
    "text = 'You say goodbye and I say hello.'"
   ]
  },
  {
   "cell_type": "markdown",
   "id": "92ecf547",
   "metadata": {},
   "source": [
    "# 전처리"
   ]
  },
  {
   "cell_type": "code",
   "execution_count": 3,
   "id": "d531819f",
   "metadata": {
    "ExecuteTime": {
     "end_time": "2023-10-26T09:34:38.280682Z",
     "start_time": "2023-10-26T09:34:38.267159Z"
    }
   },
   "outputs": [],
   "source": [
    "def preprocess(text):\n",
    "    text = text.lower()\n",
    "    text = text.replace('.', ' .')\n",
    "    words = text.split(' ')\n",
    "    \n",
    "    word_to_id = {}\n",
    "    id_to_word = {}\n",
    "    \n",
    "    for word in words:\n",
    "        if word not in word_to_id:\n",
    "            new_id = len(word_to_id)\n",
    "            word_to_id[word] = new_id\n",
    "            id_to_word[new_id] = word\n",
    "    \n",
    "    corpus = np.array([word_to_id[w] for w in words])\n",
    "    \n",
    "    return corpus, word_to_id, id_to_word"
   ]
  },
  {
   "cell_type": "code",
   "execution_count": 4,
   "id": "afd32129",
   "metadata": {
    "ExecuteTime": {
     "end_time": "2023-10-26T09:34:38.295962Z",
     "start_time": "2023-10-26T09:34:38.284211Z"
    }
   },
   "outputs": [
    {
     "name": "stdout",
     "output_type": "stream",
     "text": [
      "corpus : [0 1 2 3 4 1 5 6]\n",
      "word_to_id : {'you': 0, 'say': 1, 'goodbye': 2, 'and': 3, 'i': 4, 'hello': 5, '.': 6}\n",
      "id_to_word : {0: 'you', 1: 'say', 2: 'goodbye', 3: 'and', 4: 'i', 5: 'hello', 6: '.'}\n"
     ]
    }
   ],
   "source": [
    "corpus, word_to_id, id_to_word = preprocess(text)\n",
    "print(\"corpus :\", corpus)\n",
    "print(\"word_to_id :\", word_to_id)\n",
    "print(\"id_to_word :\", id_to_word)"
   ]
  },
  {
   "cell_type": "markdown",
   "id": "909dbc80",
   "metadata": {},
   "source": [
    "# 동시발생 행렬"
   ]
  },
  {
   "cell_type": "code",
   "execution_count": 5,
   "id": "ea56ec2a",
   "metadata": {
    "ExecuteTime": {
     "end_time": "2023-10-26T09:34:38.311381Z",
     "start_time": "2023-10-26T09:34:38.298242Z"
    }
   },
   "outputs": [],
   "source": [
    "def create_co_matrix(corpus, vacab_size, window_size=1):\n",
    "    corpus_size = len(corpus)\n",
    "    co_matrix = np.zeros((vocab_size, vocab_size), dtype=np.int32)\n",
    "    \n",
    "    for idx, word_id in enumerate(corpus):\n",
    "        for i in range(1, window_size+1):\n",
    "            left_idx = idx-i\n",
    "            right_idx = idx+i\n",
    "            \n",
    "            if left_idx >= 0:\n",
    "                left_word_id = corpus[left_idx]\n",
    "                co_matrix[word_id, left_word_id] += 1\n",
    "            \n",
    "            if right_idx < corpus_size:\n",
    "                right_word_id = corpus[right_idx]\n",
    "                co_matrix[word_id, right_word_id] += 1\n",
    "    \n",
    "    return co_matrix"
   ]
  },
  {
   "cell_type": "code",
   "execution_count": 6,
   "id": "35809ff3",
   "metadata": {
    "ExecuteTime": {
     "end_time": "2023-10-26T09:34:38.326744Z",
     "start_time": "2023-10-26T09:34:38.313799Z"
    }
   },
   "outputs": [
    {
     "data": {
      "text/plain": [
       "array([[0, 1, 0, 0, 0, 0, 0],\n",
       "       [1, 0, 1, 0, 1, 1, 0],\n",
       "       [0, 1, 0, 1, 0, 0, 0],\n",
       "       [0, 0, 1, 0, 1, 0, 0],\n",
       "       [0, 1, 0, 1, 0, 0, 0],\n",
       "       [0, 1, 0, 0, 0, 0, 1],\n",
       "       [0, 0, 0, 0, 0, 1, 0]])"
      ]
     },
     "execution_count": 6,
     "metadata": {},
     "output_type": "execute_result"
    }
   ],
   "source": [
    "vocab_size = len(word_to_id)\n",
    "\n",
    "C = create_co_matrix(corpus, vocab_size)\n",
    "\n",
    "C"
   ]
  },
  {
   "cell_type": "markdown",
   "id": "409bd2c2",
   "metadata": {},
   "source": [
    "# 벡터 간 유사도"
   ]
  },
  {
   "cell_type": "code",
   "execution_count": 7,
   "id": "9fda6c48",
   "metadata": {
    "ExecuteTime": {
     "end_time": "2023-10-26T09:34:38.342697Z",
     "start_time": "2023-10-26T09:34:38.329749Z"
    }
   },
   "outputs": [],
   "source": [
    "def cos_similarity(x, y, eps=1e-8):\n",
    "    nx = x / (np.sqrt(np.sum(x ** 2)) + eps)\n",
    "    ny = y / (np.sqrt(np.sum(y ** 2)) + eps)\n",
    "    return np.dot(nx, ny)"
   ]
  },
  {
   "cell_type": "markdown",
   "id": "86fdbfc9",
   "metadata": {},
   "source": [
    "## 유사 단어 랭킹 표시"
   ]
  },
  {
   "cell_type": "code",
   "execution_count": 8,
   "id": "36a0ba42",
   "metadata": {
    "ExecuteTime": {
     "end_time": "2023-10-26T09:34:38.358070Z",
     "start_time": "2023-10-26T09:34:38.344692Z"
    }
   },
   "outputs": [],
   "source": [
    "def most_similar(query, word_to_id, id_to_word, word_matrix, top=5):\n",
    "    if query not in word_to_id :\n",
    "        print(\"%s (을)를 찾을 수 없습니다.\" % query)\n",
    "        return\n",
    "    \n",
    "    print('\\n[query] '+query)\n",
    "    query_id = word_to_id[query]\n",
    "    query_vec = word_matrix[query_id]\n",
    "    \n",
    "    # 코사인 유사도 계산\n",
    "    vocab_size = len(id_to_word)\n",
    "    similarity = np.zeros(vocab_size)\n",
    "    \n",
    "    for i in range(vocab_size):\n",
    "        similarity[i] = cos_similarity(word_matrix[i], query_vec)\n",
    "    \n",
    "    count = 0\n",
    "    for i in (-1 * similarity).argsort():\n",
    "        if id_to_word[i] == query:\n",
    "            continue\n",
    "        print(' %s: %s' % (id_to_word[i], similarity[i]))\n",
    "        \n",
    "        \n",
    "        count += 1\n",
    "        if count >= top:\n",
    "            return"
   ]
  },
  {
   "cell_type": "code",
   "execution_count": 9,
   "id": "2ec2affc",
   "metadata": {
    "ExecuteTime": {
     "end_time": "2023-10-26T09:34:38.373500Z",
     "start_time": "2023-10-26T09:34:38.361431Z"
    }
   },
   "outputs": [
    {
     "name": "stdout",
     "output_type": "stream",
     "text": [
      "\n",
      "[query] you\n",
      " goodbye: 0.7071067691154799\n",
      " i: 0.7071067691154799\n",
      " hello: 0.7071067691154799\n",
      " say: 0.0\n",
      " and: 0.0\n"
     ]
    }
   ],
   "source": [
    "most_similar('you', word_to_id, id_to_word, C, top=5)"
   ]
  },
  {
   "cell_type": "markdown",
   "id": "ec87bf84",
   "metadata": {},
   "source": [
    "# 동시발생 행렬 개선 -> PPMI"
   ]
  },
  {
   "cell_type": "code",
   "execution_count": 10,
   "id": "c5264486",
   "metadata": {
    "ExecuteTime": {
     "end_time": "2023-10-26T09:34:38.389047Z",
     "start_time": "2023-10-26T09:34:38.377481Z"
    }
   },
   "outputs": [],
   "source": [
    "def ppmi(C, verbose=False, eps=1e-8):\n",
    "    M = np.zeros_like(C, dtype=np.float32)\n",
    "    N = np.sum(C)\n",
    "    S = np.sum(C, axis=0)\n",
    "    total = C.shape[0] * C.shape[1]\n",
    "    cnt = 0\n",
    "\n",
    "    for i in range(C.shape[0]):\n",
    "        for j in range(C.shape[1]):\n",
    "            pmi = np.log2(C[i, j] * N / (S[j] * S[i]) + eps)\n",
    "            M[i, j] = max(0, pmi)\n",
    "\n",
    "            if verbose:\n",
    "                cnt += 1\n",
    "                if cnt % (total/100) == 0:\n",
    "                    print('%.1f%% 완료' % (100*cnt/total))\n",
    "    return M"
   ]
  },
  {
   "cell_type": "code",
   "execution_count": 11,
   "id": "7322592a",
   "metadata": {
    "ExecuteTime": {
     "end_time": "2023-10-26T09:34:38.404477Z",
     "start_time": "2023-10-26T09:34:38.391586Z"
    }
   },
   "outputs": [],
   "source": [
    "W = ppmi(C)"
   ]
  },
  {
   "cell_type": "code",
   "execution_count": 12,
   "id": "04b9cac2",
   "metadata": {
    "ExecuteTime": {
     "end_time": "2023-10-26T09:34:38.420746Z",
     "start_time": "2023-10-26T09:34:38.406557Z"
    }
   },
   "outputs": [],
   "source": [
    "np.set_printoptions(precision=3)"
   ]
  },
  {
   "cell_type": "code",
   "execution_count": 13,
   "id": "1a522940",
   "metadata": {
    "ExecuteTime": {
     "end_time": "2023-10-26T09:34:38.435744Z",
     "start_time": "2023-10-26T09:34:38.423606Z"
    }
   },
   "outputs": [
    {
     "name": "stdout",
     "output_type": "stream",
     "text": [
      "[[0.    1.807 0.    0.    0.    0.    0.   ]\n",
      " [1.807 0.    0.807 0.    0.807 0.807 0.   ]\n",
      " [0.    0.807 0.    1.807 0.    0.    0.   ]\n",
      " [0.    0.    1.807 0.    1.807 0.    0.   ]\n",
      " [0.    0.807 0.    1.807 0.    0.    0.   ]\n",
      " [0.    0.807 0.    0.    0.    0.    2.807]\n",
      " [0.    0.    0.    0.    0.    2.807 0.   ]]\n"
     ]
    }
   ],
   "source": [
    "print(W)"
   ]
  },
  {
   "cell_type": "markdown",
   "id": "81e10360",
   "metadata": {},
   "source": [
    "# 차원감소"
   ]
  },
  {
   "cell_type": "code",
   "execution_count": 14,
   "id": "77eb214c",
   "metadata": {
    "ExecuteTime": {
     "end_time": "2023-10-26T09:34:41.703267Z",
     "start_time": "2023-10-26T09:34:38.437999Z"
    }
   },
   "outputs": [],
   "source": [
    "try:\n",
    "    # 빠른 code\n",
    "    from sklearn.utils.extmath import randomized_svd\n",
    "    wordvec_size = 2\n",
    "    U, S, V = randomized_svd(\n",
    "        W, n_components=wordvec_size, n_iter=5, random_state=None)\n",
    "except ImportError:\n",
    "    # 느린 code\n",
    "    U, S, V = np.linalg.svd(W)"
   ]
  },
  {
   "cell_type": "code",
   "execution_count": 15,
   "id": "18850929",
   "metadata": {
    "ExecuteTime": {
     "end_time": "2023-10-26T09:34:42.593825Z",
     "start_time": "2023-10-26T09:34:41.705255Z"
    }
   },
   "outputs": [],
   "source": [
    "import matplotlib.pyplot as plt\n",
    "\n",
    "plt.rc('font', family='Malgun Gothic') # 폰트 지정\n",
    "plt.rc('axes', unicode_minus=False) # 마이너스 폰트 설정\n",
    "%config InlineBackend.figure_format='retina' # 그래프 글씨 뚜렷"
   ]
  },
  {
   "cell_type": "code",
   "execution_count": 16,
   "id": "a274d7d8",
   "metadata": {
    "ExecuteTime": {
     "end_time": "2023-10-26T09:34:42.765634Z",
     "start_time": "2023-10-26T09:34:42.596044Z"
    }
   },
   "outputs": [
    {
     "data": {
      "image/png": "[encoded data removed]",
      "text/plain": [
       "<Figure size 432x288 with 1 Axes>"
      ]
     },
     "metadata": {
      "image/png": {
       "height": 249,
       "width": 369
      },
      "needs_background": "light"
     },
     "output_type": "display_data"
    }
   ],
   "source": [
    "for word, word_id in word_to_id.items():\n",
    "    plt.annotate(word, (U[word_id, 0], U[word_id, 1]))\n",
    "\n",
    "plt.scatter(U[:, 0], U[:, 1], alpha=0.5)\n",
    "plt.show()"
   ]
  },
  {
   "cell_type": "markdown",
   "id": "084f3375",
   "metadata": {},
   "source": [
    "# CBOW"
   ]
  },
  {
   "cell_type": "markdown",
   "id": "9c960457",
   "metadata": {},
   "source": [
    "## 맥락과 타깃 생성"
   ]
  },
  {
   "cell_type": "code",
   "execution_count": 23,
   "id": "7469c62d",
   "metadata": {
    "ExecuteTime": {
     "end_time": "2023-10-26T09:50:13.172195Z",
     "start_time": "2023-10-26T09:50:13.161270Z"
    }
   },
   "outputs": [],
   "source": [
    "def create_contexts_target(corpus, window_size=1):\n",
    "    target = corpus[window_size:-window_size] # 양 끝 제외\n",
    "    contexts = []\n",
    "    \n",
    "    for idx in range(window_size, len(corpus)-window_size):\n",
    "        cs = []\n",
    "        for t in range(-window_size, window_size + 1):\n",
    "            if t == 0:\n",
    "                continue\n",
    "            cs.append(corpus[idx + t])\n",
    "        contexts.append(cs)\n",
    "    \n",
    "    return np.array(contexts), np.array(target)"
   ]
  },
  {
   "cell_type": "code",
   "execution_count": 24,
   "id": "05aaa224",
   "metadata": {
    "ExecuteTime": {
     "end_time": "2023-10-26T09:50:13.327789Z",
     "start_time": "2023-10-26T09:50:13.317655Z"
    }
   },
   "outputs": [
    {
     "name": "stdout",
     "output_type": "stream",
     "text": [
      "[[0 2]\n",
      " [1 3]\n",
      " [2 4]\n",
      " [3 1]\n",
      " [4 5]\n",
      " [1 6]]\n"
     ]
    }
   ],
   "source": [
    "contexts, target = create_contexts_target(corpus, window_size=1)\n",
    "\n",
    "print(contexts)"
   ]
  },
  {
   "cell_type": "code",
   "execution_count": 25,
   "id": "7988b80d",
   "metadata": {
    "ExecuteTime": {
     "end_time": "2023-10-26T09:50:13.969072Z",
     "start_time": "2023-10-26T09:50:13.955835Z"
    }
   },
   "outputs": [
    {
     "name": "stdout",
     "output_type": "stream",
     "text": [
      "[1 2 3 4 1 5]\n"
     ]
    }
   ],
   "source": [
    "print(target)"
   ]
  },
  {
   "cell_type": "markdown",
   "id": "9841890f",
   "metadata": {},
   "source": [
    "## 원핫 표현으로 변환"
   ]
  },
  {
   "cell_type": "code",
   "execution_count": 26,
   "id": "c4828f07",
   "metadata": {
    "ExecuteTime": {
     "end_time": "2023-10-26T09:51:35.124425Z",
     "start_time": "2023-10-26T09:51:35.110044Z"
    }
   },
   "outputs": [],
   "source": [
    "def convert_one_hot(corpus, vocab_size):\n",
    "    '''원핫 표현으로 변환\n",
    "\n",
    "    :param corpus: 단어 ID 목록(1차원 또는 2차원 넘파이 배열)\n",
    "    :param vocab_size: 어휘 수\n",
    "    :return: 원핫 표현(2차원 또는 3차원 넘파이 배열)\n",
    "    '''\n",
    "    N = corpus.shape[0]\n",
    "\n",
    "    if corpus.ndim == 1:\n",
    "        one_hot = np.zeros((N, vocab_size), dtype=np.int32)\n",
    "        for idx, word_id in enumerate(corpus):\n",
    "            one_hot[idx, word_id] = 1\n",
    "\n",
    "    elif corpus.ndim == 2:\n",
    "        C = corpus.shape[1]\n",
    "        one_hot = np.zeros((N, C, vocab_size), dtype=np.int32)\n",
    "        for idx_0, word_ids in enumerate(corpus):\n",
    "            for idx_1, word_id in enumerate(word_ids):\n",
    "                one_hot[idx_0, idx_1, word_id] = 1\n",
    "\n",
    "    return one_hot"
   ]
  },
  {
   "cell_type": "code",
   "execution_count": 27,
   "id": "f144c1f0",
   "metadata": {
    "ExecuteTime": {
     "end_time": "2023-10-26T09:51:40.801598Z",
     "start_time": "2023-10-26T09:51:40.794123Z"
    }
   },
   "outputs": [],
   "source": [
    "vocab_size = len(word_to_id)\n",
    "target = convert_one_hot(target, vocab_size)\n",
    "contexts = convert_one_hot(contexts, vocab_size)"
   ]
  },
  {
   "cell_type": "code",
   "execution_count": 28,
   "id": "12649466",
   "metadata": {
    "ExecuteTime": {
     "end_time": "2023-10-26T09:51:45.305208Z",
     "start_time": "2023-10-26T09:51:45.298487Z"
    }
   },
   "outputs": [
    {
     "name": "stdout",
     "output_type": "stream",
     "text": [
      "[[0 1 0 0 0 0 0]\n",
      " [0 0 1 0 0 0 0]\n",
      " [0 0 0 1 0 0 0]\n",
      " [0 0 0 0 1 0 0]\n",
      " [0 1 0 0 0 0 0]\n",
      " [0 0 0 0 0 1 0]]\n"
     ]
    }
   ],
   "source": [
    "print(target)"
   ]
  },
  {
   "cell_type": "code",
   "execution_count": 29,
   "id": "5785cead",
   "metadata": {
    "ExecuteTime": {
     "end_time": "2023-10-26T09:51:50.518176Z",
     "start_time": "2023-10-26T09:51:50.508883Z"
    }
   },
   "outputs": [
    {
     "name": "stdout",
     "output_type": "stream",
     "text": [
      "[[[1 0 0 0 0 0 0]\n",
      "  [0 0 1 0 0 0 0]]\n",
      "\n",
      " [[0 1 0 0 0 0 0]\n",
      "  [0 0 0 1 0 0 0]]\n",
      "\n",
      " [[0 0 1 0 0 0 0]\n",
      "  [0 0 0 0 1 0 0]]\n",
      "\n",
      " [[0 0 0 1 0 0 0]\n",
      "  [0 1 0 0 0 0 0]]\n",
      "\n",
      " [[0 0 0 0 1 0 0]\n",
      "  [0 0 0 0 0 1 0]]\n",
      "\n",
      " [[0 1 0 0 0 0 0]\n",
      "  [0 0 0 0 0 0 1]]]\n"
     ]
    }
   ],
   "source": [
    "print(contexts)"
   ]
  },
  {
   "cell_type": "markdown",
   "id": "9739e5ae",
   "metadata": {},
   "source": [
    "## CBOW 모델 구현"
   ]
  },
  {
   "cell_type": "code",
   "execution_count": 32,
   "id": "ad7500fe",
   "metadata": {
    "ExecuteTime": {
     "end_time": "2023-10-26T09:53:11.623794Z",
     "start_time": "2023-10-26T09:53:11.606115Z"
    }
   },
   "outputs": [],
   "source": [
    "class MatMul:\n",
    "    def __init__(self, W):\n",
    "        self.params = [W]\n",
    "        self.grads = [np.zeros_like(W)]\n",
    "        self.x = None\n",
    "\n",
    "    def forward(self, x):\n",
    "        W, = self.params\n",
    "        out = np.dot(x, W)\n",
    "        self.x = x\n",
    "        return out\n",
    "\n",
    "    def backward(self, dout):\n",
    "        W, = self.params\n",
    "        dx = np.dot(dout, W.T)\n",
    "        dW = np.dot(self.x.T, dout)\n",
    "        self.grads[0][...] = dW\n",
    "        return dx"
   ]
  },
  {
   "cell_type": "code",
   "execution_count": 56,
   "id": "c2d7bb69",
   "metadata": {
    "ExecuteTime": {
     "end_time": "2023-10-26T09:55:56.596463Z",
     "start_time": "2023-10-26T09:55:56.583734Z"
    }
   },
   "outputs": [],
   "source": [
    "def softmax(x):\n",
    "    if x.ndim == 2:\n",
    "        x = x - x.max(axis=1, keepdims=True)\n",
    "        x = np.exp(x)\n",
    "        x /= x.sum(axis=1, keepdims=True)\n",
    "    elif x.ndim == 1:\n",
    "        x = x - np.max(x)\n",
    "        x = np.exp(x) / np.sum(np.exp(x))\n",
    "\n",
    "    return x"
   ]
  },
  {
   "cell_type": "code",
   "execution_count": 63,
   "id": "8aeebf06",
   "metadata": {
    "ExecuteTime": {
     "end_time": "2023-10-26T09:56:21.254441Z",
     "start_time": "2023-10-26T09:56:21.240735Z"
    }
   },
   "outputs": [],
   "source": [
    "def cross_entropy_error(y, t):\n",
    "    if y.ndim == 1:\n",
    "        t = t.reshape(1, t.size)\n",
    "        y = y.reshape(1, y.size)\n",
    "        \n",
    "    # 정답 데이터가 원핫 벡터일 경우 정답 레이블 인덱스로 변환\n",
    "    if t.size == y.size:\n",
    "        t = t.argmax(axis=1)\n",
    "             \n",
    "    batch_size = y.shape[0]\n",
    "\n",
    "    return -np.sum(np.log(y[np.arange(batch_size), t] + 1e-7)) / batch_size"
   ]
  },
  {
   "cell_type": "code",
   "execution_count": 64,
   "id": "222ab946",
   "metadata": {
    "ExecuteTime": {
     "end_time": "2023-10-26T09:56:23.095353Z",
     "start_time": "2023-10-26T09:56:23.075765Z"
    }
   },
   "outputs": [],
   "source": [
    "class SoftmaxWithLoss:\n",
    "    def __init__(self):\n",
    "        self.params, self.grads = [], []\n",
    "        self.y = None  # softmax의 출력\n",
    "        self.t = None  # 정답 레이블\n",
    "\n",
    "    def forward(self, x, t):\n",
    "        self.t = t\n",
    "        self.y = softmax(x)\n",
    "\n",
    "        # 정답 레이블이 원핫 벡터일 경우 정답의 인덱스로 변환\n",
    "        if self.t.size == self.y.size:\n",
    "            self.t = self.t.argmax(axis=1)\n",
    "\n",
    "        loss = cross_entropy_error(self.y, self.t)\n",
    "        return loss\n",
    "\n",
    "    def backward(self, dout=1):\n",
    "        batch_size = self.t.shape[0]\n",
    "\n",
    "        dx = self.y.copy()\n",
    "        dx[np.arange(batch_size), self.t] -= 1\n",
    "        dx *= dout\n",
    "        dx = dx / batch_size\n",
    "\n",
    "        return dx\n"
   ]
  },
  {
   "cell_type": "code",
   "execution_count": 65,
   "id": "c3c2ba57",
   "metadata": {
    "ExecuteTime": {
     "end_time": "2023-10-26T09:56:23.281829Z",
     "start_time": "2023-10-26T09:56:23.273253Z"
    }
   },
   "outputs": [],
   "source": [
    "class Adam:\n",
    "    '''\n",
    "    Adam (http://arxiv.org/abs/1412.6980v8)\n",
    "    '''\n",
    "    def __init__(self, lr=0.001, beta1=0.9, beta2=0.999):\n",
    "        self.lr = lr\n",
    "        self.beta1 = beta1\n",
    "        self.beta2 = beta2\n",
    "        self.iter = 0\n",
    "        self.m = None\n",
    "        self.v = None\n",
    "        \n",
    "    def update(self, params, grads):\n",
    "        if self.m is None:\n",
    "            self.m, self.v = [], []\n",
    "            for param in params:\n",
    "                self.m.append(np.zeros_like(param))\n",
    "                self.v.append(np.zeros_like(param))\n",
    "        \n",
    "        self.iter += 1\n",
    "        lr_t = self.lr * np.sqrt(1.0 - self.beta2**self.iter) / (1.0 - self.beta1**self.iter)\n",
    "\n",
    "        for i in range(len(params)):\n",
    "            self.m[i] += (1 - self.beta1) * (grads[i] - self.m[i])\n",
    "            self.v[i] += (1 - self.beta2) * (grads[i]**2 - self.v[i])\n",
    "            \n",
    "            params[i] -= lr_t * self.m[i] / (np.sqrt(self.v[i]) + 1e-7)"
   ]
  },
  {
   "cell_type": "code",
   "execution_count": 66,
   "id": "307744ba",
   "metadata": {
    "ExecuteTime": {
     "end_time": "2023-10-26T09:56:23.438232Z",
     "start_time": "2023-10-26T09:56:23.426735Z"
    }
   },
   "outputs": [],
   "source": [
    "import time\n",
    "import numpy"
   ]
  },
  {
   "cell_type": "code",
   "execution_count": 70,
   "id": "2658a7a4",
   "metadata": {
    "ExecuteTime": {
     "end_time": "2023-10-26T09:57:12.490369Z",
     "start_time": "2023-10-26T09:57:12.475208Z"
    }
   },
   "outputs": [],
   "source": [
    "def remove_duplicate(params, grads):\n",
    "    '''\n",
    "    매개변수 배열 중 중복되는 가중치를 하나로 모아\n",
    "    그 가중치에 대응하는 기울기를 더한다.\n",
    "    '''\n",
    "    params, grads = params[:], grads[:]  # copy list\n",
    "\n",
    "    while True:\n",
    "        find_flg = False\n",
    "        L = len(params)\n",
    "\n",
    "        for i in range(0, L - 1):\n",
    "            for j in range(i + 1, L):\n",
    "                # 가중치 공유 시\n",
    "                if params[i] is params[j]:\n",
    "                    grads[i] += grads[j]  # 경사를 더함\n",
    "                    find_flg = True\n",
    "                    params.pop(j)\n",
    "                    grads.pop(j)\n",
    "                # 가중치를 전치행렬로 공유하는 경우(weight tying)\n",
    "                elif params[i].ndim == 2 and params[j].ndim == 2 and \\\n",
    "                     params[i].T.shape == params[j].shape and np.all(params[i].T == params[j]):\n",
    "                    grads[i] += grads[j].T\n",
    "                    find_flg = True\n",
    "                    params.pop(j)\n",
    "                    grads.pop(j)\n",
    "\n",
    "                if find_flg: break\n",
    "            if find_flg: break\n",
    "\n",
    "        if not find_flg: break\n",
    "\n",
    "    return params, grads"
   ]
  },
  {
   "cell_type": "code",
   "execution_count": 71,
   "id": "cb8061fe",
   "metadata": {
    "ExecuteTime": {
     "end_time": "2023-10-26T09:57:12.803999Z",
     "start_time": "2023-10-26T09:57:12.779965Z"
    }
   },
   "outputs": [],
   "source": [
    "class Trainer:\n",
    "    def __init__(self, model, optimizer):\n",
    "        self.model = model\n",
    "        self.optimizer = optimizer\n",
    "        self.loss_list = []\n",
    "        self.eval_interval = None\n",
    "        self.current_epoch = 0\n",
    "\n",
    "    def fit(self, x, t, max_epoch=10, batch_size=32, max_grad=None, eval_interval=20):\n",
    "        data_size = len(x)\n",
    "        max_iters = data_size // batch_size\n",
    "        self.eval_interval = eval_interval\n",
    "        model, optimizer = self.model, self.optimizer\n",
    "        total_loss = 0\n",
    "        loss_count = 0\n",
    "\n",
    "        start_time = time.time()\n",
    "        for epoch in range(max_epoch):\n",
    "            # 뒤섞기\n",
    "            idx = numpy.random.permutation(numpy.arange(data_size))\n",
    "            x = x[idx]\n",
    "            t = t[idx]\n",
    "\n",
    "            for iters in range(max_iters):\n",
    "                batch_x = x[iters*batch_size:(iters+1)*batch_size]\n",
    "                batch_t = t[iters*batch_size:(iters+1)*batch_size]\n",
    "\n",
    "                # 기울기 구해 매개변수 갱신\n",
    "                loss = model.forward(batch_x, batch_t)\n",
    "                model.backward()\n",
    "                params, grads = remove_duplicate(model.params, model.grads)  # 공유된 가중치를 하나로 모음\n",
    "                if max_grad is not None:\n",
    "                    clip_grads(grads, max_grad)\n",
    "                optimizer.update(params, grads)\n",
    "                total_loss += loss\n",
    "                loss_count += 1\n",
    "\n",
    "                # 평가\n",
    "                if (eval_interval is not None) and (iters % eval_interval) == 0:\n",
    "                    avg_loss = total_loss / loss_count\n",
    "                    elapsed_time = time.time() - start_time\n",
    "                    print('| 에폭 %d |  반복 %d / %d | 시간 %d[s] | 손실 %.2f'\n",
    "                          % (self.current_epoch + 1, iters + 1, max_iters, elapsed_time, avg_loss))\n",
    "                    self.loss_list.append(float(avg_loss))\n",
    "                    total_loss, loss_count = 0, 0\n",
    "\n",
    "            self.current_epoch += 1\n",
    "\n",
    "    def plot(self, ylim=None):\n",
    "        x = numpy.arange(len(self.loss_list))\n",
    "        if ylim is not None:\n",
    "            plt.ylim(*ylim)\n",
    "        plt.plot(x, self.loss_list, label='train')\n",
    "        plt.xlabel('반복 (x' + str(self.eval_interval) + ')')\n",
    "        plt.ylabel('손실')\n",
    "        plt.show()"
   ]
  },
  {
   "cell_type": "code",
   "execution_count": 72,
   "id": "7d6efe36",
   "metadata": {
    "ExecuteTime": {
     "end_time": "2023-10-26T09:57:13.210702Z",
     "start_time": "2023-10-26T09:57:13.192266Z"
    }
   },
   "outputs": [],
   "source": [
    "class SimpleCBOW:\n",
    "    def __init__(self, vocab_size, hidden_size):\n",
    "        V, H = vocab_size, hidden_size\n",
    "\n",
    "        # 가중치 초기화\n",
    "        W_in = 0.01 * np.random.randn(V, H).astype('f')\n",
    "        W_out = 0.01 * np.random.randn(H, V).astype('f')\n",
    "\n",
    "        # 계층 생성\n",
    "        self.in_layer0 = MatMul(W_in)\n",
    "        self.in_layer1 = MatMul(W_in)\n",
    "        self.out_layer = MatMul(W_out)\n",
    "        self.loss_layer = SoftmaxWithLoss()\n",
    "\n",
    "        # 모든 가중치와 기울기를 리스트에 모은다.\n",
    "        layers = [self.in_layer0, self.in_layer1, self.out_layer]\n",
    "        self.params, self.grads = [], []\n",
    "        for layer in layers:\n",
    "            self.params += layer.params\n",
    "            self.grads += layer.grads\n",
    "\n",
    "        # 인스턴스 변수에 단어의 분산 표현을 저장한다.\n",
    "        self.word_vecs = W_in\n",
    "\n",
    "    def forward(self, contexts, target):\n",
    "        h0 = self.in_layer0.forward(contexts[:, 0])\n",
    "        h1 = self.in_layer1.forward(contexts[:, 1])\n",
    "        h = (h0 + h1) * 0.5\n",
    "        score = self.out_layer.forward(h)\n",
    "        loss = self.loss_layer.forward(score, target)\n",
    "        return loss\n",
    "\n",
    "    def backward(self, dout=1):\n",
    "        ds = self.loss_layer.backward(dout)\n",
    "        da = self.out_layer.backward(ds)\n",
    "        da *= 0.5\n",
    "        self.in_layer1.backward(da)\n",
    "        self.in_layer0.backward(da)\n",
    "        return None"
   ]
  },
  {
   "cell_type": "code",
   "execution_count": 73,
   "id": "08117774",
   "metadata": {
    "ExecuteTime": {
     "end_time": "2023-10-26T09:57:14.184085Z",
     "start_time": "2023-10-26T09:57:13.644064Z"
    }
   },
   "outputs": [
    {
     "name": "stdout",
     "output_type": "stream",
     "text": [
      "| 에폭 1 |  반복 1 / 2 | 시간 0[s] | 손실 1.95\n",
      "| 에폭 2 |  반복 1 / 2 | 시간 0[s] | 손실 1.95\n",
      "| 에폭 3 |  반복 1 / 2 | 시간 0[s] | 손실 1.95\n",
      "| 에폭 4 |  반복 1 / 2 | 시간 0[s] | 손실 1.95\n",
      "| 에폭 5 |  반복 1 / 2 | 시간 0[s] | 손실 1.95\n",
      "| 에폭 6 |  반복 1 / 2 | 시간 0[s] | 손실 1.95\n",
      "| 에폭 7 |  반복 1 / 2 | 시간 0[s] | 손실 1.95\n",
      "| 에폭 8 |  반복 1 / 2 | 시간 0[s] | 손실 1.95\n",
      "| 에폭 9 |  반복 1 / 2 | 시간 0[s] | 손실 1.94\n",
      "| 에폭 10 |  반복 1 / 2 | 시간 0[s] | 손실 1.95\n",
      "| 에폭 11 |  반복 1 / 2 | 시간 0[s] | 손실 1.94\n",
      "| 에폭 12 |  반복 1 / 2 | 시간 0[s] | 손실 1.94\n",
      "| 에폭 13 |  반복 1 / 2 | 시간 0[s] | 손실 1.94\n",
      "| 에폭 14 |  반복 1 / 2 | 시간 0[s] | 손실 1.94\n",
      "| 에폭 15 |  반복 1 / 2 | 시간 0[s] | 손실 1.94\n",
      "| 에폭 16 |  반복 1 / 2 | 시간 0[s] | 손실 1.94\n",
      "| 에폭 17 |  반복 1 / 2 | 시간 0[s] | 손실 1.94\n",
      "| 에폭 18 |  반복 1 / 2 | 시간 0[s] | 손실 1.94\n",
      "| 에폭 19 |  반복 1 / 2 | 시간 0[s] | 손실 1.94\n",
      "| 에폭 20 |  반복 1 / 2 | 시간 0[s] | 손실 1.94\n",
      "| 에폭 21 |  반복 1 / 2 | 시간 0[s] | 손실 1.94\n",
      "| 에폭 22 |  반복 1 / 2 | 시간 0[s] | 손실 1.94\n",
      "| 에폭 23 |  반복 1 / 2 | 시간 0[s] | 손실 1.94\n",
      "| 에폭 24 |  반복 1 / 2 | 시간 0[s] | 손실 1.94\n",
      "| 에폭 25 |  반복 1 / 2 | 시간 0[s] | 손실 1.94\n",
      "| 에폭 26 |  반복 1 / 2 | 시간 0[s] | 손실 1.94\n",
      "| 에폭 27 |  반복 1 / 2 | 시간 0[s] | 손실 1.94\n",
      "| 에폭 28 |  반복 1 / 2 | 시간 0[s] | 손실 1.93\n",
      "| 에폭 29 |  반복 1 / 2 | 시간 0[s] | 손실 1.94\n",
      "| 에폭 30 |  반복 1 / 2 | 시간 0[s] | 손실 1.94\n",
      "| 에폭 31 |  반복 1 / 2 | 시간 0[s] | 손실 1.93\n",
      "| 에폭 32 |  반복 1 / 2 | 시간 0[s] | 손실 1.93\n",
      "| 에폭 33 |  반복 1 / 2 | 시간 0[s] | 손실 1.93\n",
      "| 에폭 34 |  반복 1 / 2 | 시간 0[s] | 손실 1.93\n",
      "| 에폭 35 |  반복 1 / 2 | 시간 0[s] | 손실 1.93\n",
      "| 에폭 36 |  반복 1 / 2 | 시간 0[s] | 손실 1.93\n",
      "| 에폭 37 |  반복 1 / 2 | 시간 0[s] | 손실 1.93\n",
      "| 에폭 38 |  반복 1 / 2 | 시간 0[s] | 손실 1.92\n",
      "| 에폭 39 |  반복 1 / 2 | 시간 0[s] | 손실 1.92\n",
      "| 에폭 40 |  반복 1 / 2 | 시간 0[s] | 손실 1.92\n",
      "| 에폭 41 |  반복 1 / 2 | 시간 0[s] | 손실 1.92\n",
      "| 에폭 42 |  반복 1 / 2 | 시간 0[s] | 손실 1.92\n",
      "| 에폭 43 |  반복 1 / 2 | 시간 0[s] | 손실 1.92\n",
      "| 에폭 44 |  반복 1 / 2 | 시간 0[s] | 손실 1.91\n",
      "| 에폭 45 |  반복 1 / 2 | 시간 0[s] | 손실 1.91\n",
      "| 에폭 46 |  반복 1 / 2 | 시간 0[s] | 손실 1.91\n",
      "| 에폭 47 |  반복 1 / 2 | 시간 0[s] | 손실 1.91\n",
      "| 에폭 48 |  반복 1 / 2 | 시간 0[s] | 손실 1.91\n",
      "| 에폭 49 |  반복 1 / 2 | 시간 0[s] | 손실 1.90\n",
      "| 에폭 50 |  반복 1 / 2 | 시간 0[s] | 손실 1.90\n",
      "| 에폭 51 |  반복 1 / 2 | 시간 0[s] | 손실 1.90\n",
      "| 에폭 52 |  반복 1 / 2 | 시간 0[s] | 손실 1.90\n",
      "| 에폭 53 |  반복 1 / 2 | 시간 0[s] | 손실 1.90\n",
      "| 에폭 54 |  반복 1 / 2 | 시간 0[s] | 손실 1.90\n",
      "| 에폭 55 |  반복 1 / 2 | 시간 0[s] | 손실 1.90\n",
      "| 에폭 56 |  반복 1 / 2 | 시간 0[s] | 손실 1.88\n",
      "| 에폭 57 |  반복 1 / 2 | 시간 0[s] | 손실 1.90\n",
      "| 에폭 58 |  반복 1 / 2 | 시간 0[s] | 손실 1.88\n",
      "| 에폭 59 |  반복 1 / 2 | 시간 0[s] | 손실 1.88\n",
      "| 에폭 60 |  반복 1 / 2 | 시간 0[s] | 손실 1.88\n",
      "| 에폭 61 |  반복 1 / 2 | 시간 0[s] | 손실 1.88\n",
      "| 에폭 62 |  반복 1 / 2 | 시간 0[s] | 손실 1.86\n",
      "| 에폭 63 |  반복 1 / 2 | 시간 0[s] | 손실 1.88\n",
      "| 에폭 64 |  반복 1 / 2 | 시간 0[s] | 손실 1.88\n",
      "| 에폭 65 |  반복 1 / 2 | 시간 0[s] | 손실 1.85\n",
      "| 에폭 66 |  반복 1 / 2 | 시간 0[s] | 손실 1.86\n",
      "| 에폭 67 |  반복 1 / 2 | 시간 0[s] | 손실 1.87\n",
      "| 에폭 68 |  반복 1 / 2 | 시간 0[s] | 손실 1.86\n",
      "| 에폭 69 |  반복 1 / 2 | 시간 0[s] | 손실 1.85\n",
      "| 에폭 70 |  반복 1 / 2 | 시간 0[s] | 손실 1.85\n",
      "| 에폭 71 |  반복 1 / 2 | 시간 0[s] | 손실 1.85\n",
      "| 에폭 72 |  반복 1 / 2 | 시간 0[s] | 손실 1.83\n",
      "| 에폭 73 |  반복 1 / 2 | 시간 0[s] | 손실 1.84\n",
      "| 에폭 74 |  반복 1 / 2 | 시간 0[s] | 손실 1.87\n",
      "| 에폭 75 |  반복 1 / 2 | 시간 0[s] | 손실 1.82\n",
      "| 에폭 76 |  반복 1 / 2 | 시간 0[s] | 손실 1.84\n",
      "| 에폭 77 |  반복 1 / 2 | 시간 0[s] | 손실 1.83\n",
      "| 에폭 78 |  반복 1 / 2 | 시간 0[s] | 손실 1.84\n",
      "| 에폭 79 |  반복 1 / 2 | 시간 0[s] | 손실 1.80\n",
      "| 에폭 80 |  반복 1 / 2 | 시간 0[s] | 손실 1.81\n",
      "| 에폭 81 |  반복 1 / 2 | 시간 0[s] | 손실 1.82\n",
      "| 에폭 82 |  반복 1 / 2 | 시간 0[s] | 손실 1.81\n",
      "| 에폭 83 |  반복 1 / 2 | 시간 0[s] | 손실 1.77\n",
      "| 에폭 84 |  반복 1 / 2 | 시간 0[s] | 손실 1.85\n",
      "| 에폭 85 |  반복 1 / 2 | 시간 0[s] | 손실 1.77\n",
      "| 에폭 86 |  반복 1 / 2 | 시간 0[s] | 손실 1.80\n",
      "| 에폭 87 |  반복 1 / 2 | 시간 0[s] | 손실 1.80\n",
      "| 에폭 88 |  반복 1 / 2 | 시간 0[s] | 손실 1.76\n",
      "| 에폭 89 |  반복 1 / 2 | 시간 0[s] | 손실 1.79\n",
      "| 에폭 90 |  반복 1 / 2 | 시간 0[s] | 손실 1.78\n",
      "| 에폭 91 |  반복 1 / 2 | 시간 0[s] | 손실 1.76\n",
      "| 에폭 92 |  반복 1 / 2 | 시간 0[s] | 손실 1.77\n",
      "| 에폭 93 |  반복 1 / 2 | 시간 0[s] | 손실 1.76\n",
      "| 에폭 94 |  반복 1 / 2 | 시간 0[s] | 손실 1.73\n",
      "| 에폭 95 |  반복 1 / 2 | 시간 0[s] | 손실 1.79\n",
      "| 에폭 96 |  반복 1 / 2 | 시간 0[s] | 손실 1.74\n",
      "| 에폭 97 |  반복 1 / 2 | 시간 0[s] | 손실 1.73\n",
      "| 에폭 98 |  반복 1 / 2 | 시간 0[s] | 손실 1.75\n",
      "| 에폭 99 |  반복 1 / 2 | 시간 0[s] | 손실 1.75\n",
      "| 에폭 100 |  반복 1 / 2 | 시간 0[s] | 손실 1.72\n",
      "| 에폭 101 |  반복 1 / 2 | 시간 0[s] | 손실 1.73\n",
      "| 에폭 102 |  반복 1 / 2 | 시간 0[s] | 손실 1.71\n",
      "| 에폭 103 |  반복 1 / 2 | 시간 0[s] | 손실 1.72\n",
      "| 에폭 104 |  반복 1 / 2 | 시간 0[s] | 손실 1.74\n",
      "| 에폭 105 |  반복 1 / 2 | 시간 0[s] | 손실 1.69\n",
      "| 에폭 106 |  반복 1 / 2 | 시간 0[s] | 손실 1.68\n",
      "| 에폭 107 |  반복 1 / 2 | 시간 0[s] | 손실 1.70\n",
      "| 에폭 108 |  반복 1 / 2 | 시간 0[s] | 손실 1.71\n",
      "| 에폭 109 |  반복 1 / 2 | 시간 0[s] | 손실 1.69\n",
      "| 에폭 110 |  반복 1 / 2 | 시간 0[s] | 손실 1.65\n",
      "| 에폭 111 |  반복 1 / 2 | 시간 0[s] | 손실 1.73\n",
      "| 에폭 112 |  반복 1 / 2 | 시간 0[s] | 손실 1.66\n",
      "| 에폭 113 |  반복 1 / 2 | 시간 0[s] | 손실 1.68\n",
      "| 에폭 114 |  반복 1 / 2 | 시간 0[s] | 손실 1.63\n",
      "| 에폭 115 |  반복 1 / 2 | 시간 0[s] | 손실 1.70\n",
      "| 에폭 116 |  반복 1 / 2 | 시간 0[s] | 손실 1.68\n",
      "| 에폭 117 |  반복 1 / 2 | 시간 0[s] | 손실 1.65\n",
      "| 에폭 118 |  반복 1 / 2 | 시간 0[s] | 손실 1.58\n",
      "| 에폭 119 |  반복 1 / 2 | 시간 0[s] | 손실 1.70\n",
      "| 에폭 120 |  반복 1 / 2 | 시간 0[s] | 손실 1.59\n",
      "| 에폭 121 |  반복 1 / 2 | 시간 0[s] | 손실 1.59\n",
      "| 에폭 122 |  반복 1 / 2 | 시간 0[s] | 손실 1.71\n",
      "| 에폭 123 |  반복 1 / 2 | 시간 0[s] | 손실 1.53\n",
      "| 에폭 124 |  반복 1 / 2 | 시간 0[s] | 손실 1.70\n",
      "| 에폭 125 |  반복 1 / 2 | 시간 0[s] | 손실 1.52\n",
      "| 에폭 126 |  반복 1 / 2 | 시간 0[s] | 손실 1.69\n",
      "| 에폭 127 |  반복 1 / 2 | 시간 0[s] | 손실 1.57\n",
      "| 에폭 128 |  반복 1 / 2 | 시간 0[s] | 손실 1.59\n",
      "| 에폭 129 |  반복 1 / 2 | 시간 0[s] | 손실 1.57\n",
      "| 에폭 130 |  반복 1 / 2 | 시간 0[s] | 손실 1.59\n",
      "| 에폭 131 |  반복 1 / 2 | 시간 0[s] | 손실 1.59\n",
      "| 에폭 132 |  반복 1 / 2 | 시간 0[s] | 손실 1.58\n",
      "| 에폭 133 |  반복 1 / 2 | 시간 0[s] | 손실 1.55\n",
      "| 에폭 134 |  반복 1 / 2 | 시간 0[s] | 손실 1.58\n",
      "| 에폭 135 |  반복 1 / 2 | 시간 0[s] | 손실 1.54\n",
      "| 에폭 136 |  반복 1 / 2 | 시간 0[s] | 손실 1.50\n",
      "| 에폭 137 |  반복 1 / 2 | 시간 0[s] | 손실 1.60\n",
      "| 에폭 138 |  반복 1 / 2 | 시간 0[s] | 손실 1.54\n",
      "| 에폭 139 |  반복 1 / 2 | 시간 0[s] | 손실 1.56\n",
      "| 에폭 140 |  반복 1 / 2 | 시간 0[s] | 손실 1.51\n",
      "| 에폭 141 |  반복 1 / 2 | 시간 0[s] | 손실 1.52\n",
      "| 에폭 142 |  반복 1 / 2 | 시간 0[s] | 손실 1.49\n",
      "| 에폭 143 |  반복 1 / 2 | 시간 0[s] | 손실 1.55\n",
      "| 에폭 144 |  반복 1 / 2 | 시간 0[s] | 손실 1.48\n",
      "| 에폭 145 |  반복 1 / 2 | 시간 0[s] | 손실 1.59\n",
      "| 에폭 146 |  반복 1 / 2 | 시간 0[s] | 손실 1.47\n",
      "| 에폭 147 |  반복 1 / 2 | 시간 0[s] | 손실 1.50\n",
      "| 에폭 148 |  반복 1 / 2 | 시간 0[s] | 손실 1.49\n",
      "| 에폭 149 |  반복 1 / 2 | 시간 0[s] | 손실 1.41\n",
      "| 에폭 150 |  반복 1 / 2 | 시간 0[s] | 손실 1.56\n",
      "| 에폭 151 |  반복 1 / 2 | 시간 0[s] | 손실 1.53\n",
      "| 에폭 152 |  반복 1 / 2 | 시간 0[s] | 손실 1.39\n",
      "| 에폭 153 |  반복 1 / 2 | 시간 0[s] | 손실 1.52\n",
      "| 에폭 154 |  반복 1 / 2 | 시간 0[s] | 손실 1.41\n",
      "| 에폭 155 |  반복 1 / 2 | 시간 0[s] | 손실 1.45\n",
      "| 에폭 156 |  반복 1 / 2 | 시간 0[s] | 손실 1.39\n",
      "| 에폭 157 |  반복 1 / 2 | 시간 0[s] | 손실 1.52\n",
      "| 에폭 158 |  반복 1 / 2 | 시간 0[s] | 손실 1.44\n",
      "| 에폭 159 |  반복 1 / 2 | 시간 0[s] | 손실 1.41\n",
      "| 에폭 160 |  반복 1 / 2 | 시간 0[s] | 손실 1.51\n",
      "| 에폭 161 |  반복 1 / 2 | 시간 0[s] | 손실 1.30\n",
      "| 에폭 162 |  반복 1 / 2 | 시간 0[s] | 손실 1.52\n",
      "| 에폭 163 |  반복 1 / 2 | 시간 0[s] | 손실 1.31\n",
      "| 에폭 164 |  반복 1 / 2 | 시간 0[s] | 손실 1.45\n",
      "| 에폭 165 |  반복 1 / 2 | 시간 0[s] | 손실 1.41\n",
      "| 에폭 166 |  반복 1 / 2 | 시간 0[s] | 손실 1.35\n",
      "| 에폭 167 |  반복 1 / 2 | 시간 0[s] | 손실 1.44\n",
      "| 에폭 168 |  반복 1 / 2 | 시간 0[s] | 손실 1.39\n",
      "| 에폭 169 |  반복 1 / 2 | 시간 0[s] | 손실 1.40\n",
      "| 에폭 170 |  반복 1 / 2 | 시간 0[s] | 손실 1.44\n",
      "| 에폭 171 |  반복 1 / 2 | 시간 0[s] | 손실 1.31\n",
      "| 에폭 172 |  반복 1 / 2 | 시간 0[s] | 손실 1.37\n",
      "| 에폭 173 |  반복 1 / 2 | 시간 0[s] | 손실 1.34\n",
      "| 에폭 174 |  반복 1 / 2 | 시간 0[s] | 손실 1.36\n",
      "| 에폭 175 |  반복 1 / 2 | 시간 0[s] | 손실 1.37\n",
      "| 에폭 176 |  반복 1 / 2 | 시간 0[s] | 손실 1.35\n",
      "| 에폭 177 |  반복 1 / 2 | 시간 0[s] | 손실 1.34\n",
      "| 에폭 178 |  반복 1 / 2 | 시간 0[s] | 손실 1.27\n",
      "| 에폭 179 |  반복 1 / 2 | 시간 0[s] | 손실 1.33\n",
      "| 에폭 180 |  반복 1 / 2 | 시간 0[s] | 손실 1.45\n",
      "| 에폭 181 |  반복 1 / 2 | 시간 0[s] | 손실 1.32\n",
      "| 에폭 182 |  반복 1 / 2 | 시간 0[s] | 손실 1.27\n",
      "| 에폭 183 |  반복 1 / 2 | 시간 0[s] | 손실 1.37\n",
      "| 에폭 184 |  반복 1 / 2 | 시간 0[s] | 손실 1.24\n",
      "| 에폭 185 |  반복 1 / 2 | 시간 0[s] | 손실 1.30\n",
      "| 에폭 186 |  반복 1 / 2 | 시간 0[s] | 손실 1.30\n",
      "| 에폭 187 |  반복 1 / 2 | 시간 0[s] | 손실 1.30\n",
      "| 에폭 188 |  반복 1 / 2 | 시간 0[s] | 손실 1.29\n",
      "| 에폭 189 |  반복 1 / 2 | 시간 0[s] | 손실 1.29\n",
      "| 에폭 190 |  반복 1 / 2 | 시간 0[s] | 손실 1.35\n",
      "| 에폭 191 |  반복 1 / 2 | 시간 0[s] | 손실 1.14\n",
      "| 에폭 192 |  반복 1 / 2 | 시간 0[s] | 손실 1.29\n",
      "| 에폭 193 |  반복 1 / 2 | 시간 0[s] | 손실 1.34\n",
      "| 에폭 194 |  반복 1 / 2 | 시간 0[s] | 손실 1.26\n",
      "| 에폭 195 |  반복 1 / 2 | 시간 0[s] | 손실 1.25\n",
      "| 에폭 196 |  반복 1 / 2 | 시간 0[s] | 손실 1.26\n",
      "| 에폭 197 |  반복 1 / 2 | 시간 0[s] | 손실 1.25\n",
      "| 에폭 198 |  반복 1 / 2 | 시간 0[s] | 손실 1.26\n",
      "| 에폭 199 |  반복 1 / 2 | 시간 0[s] | 손실 1.23\n",
      "| 에폭 200 |  반복 1 / 2 | 시간 0[s] | 손실 1.25\n",
      "| 에폭 201 |  반복 1 / 2 | 시간 0[s] | 손실 1.22\n",
      "| 에폭 202 |  반복 1 / 2 | 시간 0[s] | 손실 1.23\n",
      "| 에폭 203 |  반복 1 / 2 | 시간 0[s] | 손실 1.30\n",
      "| 에폭 204 |  반복 1 / 2 | 시간 0[s] | 손실 1.22\n",
      "| 에폭 205 |  반복 1 / 2 | 시간 0[s] | 손실 1.22\n",
      "| 에폭 206 |  반복 1 / 2 | 시간 0[s] | 손실 1.14\n",
      "| 에폭 207 |  반복 1 / 2 | 시간 0[s] | 손실 1.14\n",
      "| 에폭 208 |  반복 1 / 2 | 시간 0[s] | 손실 1.20\n",
      "| 에폭 209 |  반복 1 / 2 | 시간 0[s] | 손실 1.27\n",
      "| 에폭 210 |  반복 1 / 2 | 시간 0[s] | 손실 1.12\n",
      "| 에폭 211 |  반복 1 / 2 | 시간 0[s] | 손실 1.20\n",
      "| 에폭 212 |  반복 1 / 2 | 시간 0[s] | 손실 1.26\n",
      "| 에폭 213 |  반복 1 / 2 | 시간 0[s] | 손실 1.19\n",
      "| 에폭 214 |  반복 1 / 2 | 시간 0[s] | 손실 1.17\n",
      "| 에폭 215 |  반복 1 / 2 | 시간 0[s] | 손실 1.25\n",
      "| 에폭 216 |  반복 1 / 2 | 시간 0[s] | 손실 1.10\n",
      "| 에폭 217 |  반복 1 / 2 | 시간 0[s] | 손실 1.16\n",
      "| 에폭 218 |  반복 1 / 2 | 시간 0[s] | 손실 1.09\n",
      "| 에폭 219 |  반복 1 / 2 | 시간 0[s] | 손실 1.16\n",
      "| 에폭 220 |  반복 1 / 2 | 시간 0[s] | 손실 1.23\n",
      "| 에폭 221 |  반복 1 / 2 | 시간 0[s] | 손실 1.16\n",
      "| 에폭 222 |  반복 1 / 2 | 시간 0[s] | 손실 1.22\n",
      "| 에폭 223 |  반복 1 / 2 | 시간 0[s] | 손실 1.14\n",
      "| 에폭 224 |  반복 1 / 2 | 시간 0[s] | 손실 1.06\n",
      "| 에폭 225 |  반복 1 / 2 | 시간 0[s] | 손실 1.14\n",
      "| 에폭 226 |  반복 1 / 2 | 시간 0[s] | 손실 1.13\n",
      "| 에폭 227 |  반복 1 / 2 | 시간 0[s] | 손실 1.13\n",
      "| 에폭 228 |  반복 1 / 2 | 시간 0[s] | 손실 1.05\n",
      "| 에폭 229 |  반복 1 / 2 | 시간 0[s] | 손실 1.20\n",
      "| 에폭 230 |  반복 1 / 2 | 시간 0[s] | 손실 1.19\n",
      "| 에폭 231 |  반복 1 / 2 | 시간 0[s] | 손실 1.03\n",
      "| 에폭 232 |  반복 1 / 2 | 시간 0[s] | 손실 1.12\n",
      "| 에폭 233 |  반복 1 / 2 | 시간 0[s] | 손실 1.03\n",
      "| 에폭 234 |  반복 1 / 2 | 시간 0[s] | 손실 1.18\n",
      "| 에폭 235 |  반복 1 / 2 | 시간 0[s] | 손실 1.08\n",
      "| 에폭 236 |  반복 1 / 2 | 시간 0[s] | 손실 1.10\n",
      "| 에폭 237 |  반복 1 / 2 | 시간 0[s] | 손실 1.17\n",
      "| 에폭 238 |  반복 1 / 2 | 시간 0[s] | 손실 0.94\n",
      "| 에폭 239 |  반복 1 / 2 | 시간 0[s] | 손실 1.15\n",
      "| 에폭 240 |  반복 1 / 2 | 시간 0[s] | 손실 1.00\n",
      "| 에폭 241 |  반복 1 / 2 | 시간 0[s] | 손실 1.14\n",
      "| 에폭 242 |  반복 1 / 2 | 시간 0[s] | 손실 1.08\n",
      "| 에폭 243 |  반복 1 / 2 | 시간 0[s] | 손실 1.07\n",
      "| 에폭 244 |  반복 1 / 2 | 시간 0[s] | 손실 1.00\n",
      "| 에폭 245 |  반복 1 / 2 | 시간 0[s] | 손실 1.13\n",
      "| 에폭 246 |  반복 1 / 2 | 시간 0[s] | 손실 1.05\n",
      "| 에폭 247 |  반복 1 / 2 | 시간 0[s] | 손실 1.08\n",
      "| 에폭 248 |  반복 1 / 2 | 시간 0[s] | 손실 1.03\n",
      "| 에폭 249 |  반복 1 / 2 | 시간 0[s] | 손실 1.14\n",
      "| 에폭 250 |  반복 1 / 2 | 시간 0[s] | 손실 0.98\n",
      "| 에폭 251 |  반복 1 / 2 | 시간 0[s] | 손실 0.97\n",
      "| 에폭 252 |  반복 1 / 2 | 시간 0[s] | 손실 1.03\n",
      "| 에폭 253 |  반복 1 / 2 | 시간 0[s] | 손실 1.10\n",
      "| 에폭 254 |  반복 1 / 2 | 시간 0[s] | 손실 1.05\n",
      "| 에폭 255 |  반복 1 / 2 | 시간 0[s] | 손실 1.03\n",
      "| 에폭 256 |  반복 1 / 2 | 시간 0[s] | 손실 0.97\n",
      "| 에폭 257 |  반복 1 / 2 | 시간 0[s] | 손실 1.07\n",
      "| 에폭 258 |  반복 1 / 2 | 시간 0[s] | 손실 1.04\n",
      "| 에폭 259 |  반복 1 / 2 | 시간 0[s] | 손실 1.04\n",
      "| 에폭 260 |  반복 1 / 2 | 시간 0[s] | 손실 1.00\n",
      "| 에폭 261 |  반복 1 / 2 | 시간 0[s] | 손실 0.99\n",
      "| 에폭 262 |  반복 1 / 2 | 시간 0[s] | 손실 1.05\n",
      "| 에폭 263 |  반복 1 / 2 | 시간 0[s] | 손실 0.93\n",
      "| 에폭 264 |  반복 1 / 2 | 시간 0[s] | 손실 1.06\n",
      "| 에폭 265 |  반복 1 / 2 | 시간 0[s] | 손실 1.02\n",
      "| 에폭 266 |  반복 1 / 2 | 시간 0[s] | 손실 1.08\n",
      "| 에폭 267 |  반복 1 / 2 | 시간 0[s] | 손실 0.88\n",
      "| 에폭 268 |  반복 1 / 2 | 시간 0[s] | 손실 0.99\n",
      "| 에폭 269 |  반복 1 / 2 | 시간 0[s] | 손실 1.01\n",
      "| 에폭 270 |  반복 1 / 2 | 시간 0[s] | 손실 0.99\n",
      "| 에폭 271 |  반복 1 / 2 | 시간 0[s] | 손실 1.01\n",
      "| 에폭 272 |  반복 1 / 2 | 시간 0[s] | 손실 0.96\n",
      "| 에폭 273 |  반복 1 / 2 | 시간 0[s] | 손실 1.00\n",
      "| 에폭 274 |  반복 1 / 2 | 시간 0[s] | 손실 1.00\n",
      "| 에폭 275 |  반복 1 / 2 | 시간 0[s] | 손실 0.92\n",
      "| 에폭 276 |  반복 1 / 2 | 시간 0[s] | 손실 0.92\n",
      "| 에폭 277 |  반복 1 / 2 | 시간 0[s] | 손실 0.92\n",
      "| 에폭 278 |  반복 1 / 2 | 시간 0[s] | 손실 0.96\n",
      "| 에폭 279 |  반복 1 / 2 | 시간 0[s] | 손실 1.01\n",
      "| 에폭 280 |  반복 1 / 2 | 시간 0[s] | 손실 1.01\n",
      "| 에폭 281 |  반복 1 / 2 | 시간 0[s] | 손실 0.95\n",
      "| 에폭 282 |  반복 1 / 2 | 시간 0[s] | 손실 0.87\n",
      "| 에폭 283 |  반복 1 / 2 | 시간 0[s] | 손실 0.92\n",
      "| 에폭 284 |  반복 1 / 2 | 시간 0[s] | 손실 0.95\n",
      "| 에폭 285 |  반복 1 / 2 | 시간 0[s] | 손실 1.02\n",
      "| 에폭 286 |  반복 1 / 2 | 시간 0[s] | 손실 1.05\n",
      "| 에폭 287 |  반복 1 / 2 | 시간 0[s] | 손실 0.91\n",
      "| 에폭 288 |  반복 1 / 2 | 시간 0[s] | 손실 0.92\n",
      "| 에폭 289 |  반복 1 / 2 | 시간 0[s] | 손실 0.80\n",
      "| 에폭 290 |  반복 1 / 2 | 시간 0[s] | 손실 1.04\n",
      "| 에폭 291 |  반복 1 / 2 | 시간 0[s] | 손실 1.04\n",
      "| 에폭 292 |  반복 1 / 2 | 시간 0[s] | 손실 0.85\n",
      "| 에폭 293 |  반복 1 / 2 | 시간 0[s] | 손실 0.78\n",
      "| 에폭 294 |  반복 1 / 2 | 시간 0[s] | 손실 1.00\n",
      "| 에폭 295 |  반복 1 / 2 | 시간 0[s] | 손실 0.98\n",
      "| 에폭 296 |  반복 1 / 2 | 시간 0[s] | 손실 0.99\n",
      "| 에폭 297 |  반복 1 / 2 | 시간 0[s] | 손실 0.69\n",
      "| 에폭 298 |  반복 1 / 2 | 시간 0[s] | 손실 1.02\n",
      "| 에폭 299 |  반복 1 / 2 | 시간 0[s] | 손실 0.95\n",
      "| 에폭 300 |  반복 1 / 2 | 시간 0[s] | 손실 0.90\n",
      "| 에폭 301 |  반복 1 / 2 | 시간 0[s] | 손실 0.83\n",
      "| 에폭 302 |  반복 1 / 2 | 시간 0[s] | 손실 0.90\n",
      "| 에폭 303 |  반복 1 / 2 | 시간 0[s] | 손실 0.94\n",
      "| 에폭 304 |  반복 1 / 2 | 시간 0[s] | 손실 0.86\n",
      "| 에폭 305 |  반복 1 / 2 | 시간 0[s] | 손실 0.97\n",
      "| 에폭 306 |  반복 1 / 2 | 시간 0[s] | 손실 0.85\n",
      "| 에폭 307 |  반복 1 / 2 | 시간 0[s] | 손실 0.85\n",
      "| 에폭 308 |  반복 1 / 2 | 시간 0[s] | 손실 0.89\n",
      "| 에폭 309 |  반복 1 / 2 | 시간 0[s] | 손실 0.92\n",
      "| 에폭 310 |  반복 1 / 2 | 시간 0[s] | 손실 0.88\n",
      "| 에폭 311 |  반복 1 / 2 | 시간 0[s] | 손실 0.84\n",
      "| 에폭 312 |  반복 1 / 2 | 시간 0[s] | 손실 0.88\n",
      "| 에폭 313 |  반복 1 / 2 | 시간 0[s] | 손실 0.87\n",
      "| 에폭 314 |  반복 1 / 2 | 시간 0[s] | 손실 0.92\n",
      "| 에폭 315 |  반복 1 / 2 | 시간 0[s] | 손실 0.83\n",
      "| 에폭 316 |  반복 1 / 2 | 시간 0[s] | 손실 0.95\n",
      "| 에폭 317 |  반복 1 / 2 | 시간 0[s] | 손실 0.94\n",
      "| 에폭 318 |  반복 1 / 2 | 시간 0[s] | 손실 0.87\n",
      "| 에폭 319 |  반복 1 / 2 | 시간 0[s] | 손실 0.79\n",
      "| 에폭 320 |  반복 1 / 2 | 시간 0[s] | 손실 0.82\n",
      "| 에폭 321 |  반복 1 / 2 | 시간 0[s] | 손실 0.74\n",
      "| 에폭 322 |  반복 1 / 2 | 시간 0[s] | 손실 1.05\n",
      "| 에폭 323 |  반복 1 / 2 | 시간 0[s] | 손실 0.66\n",
      "| 에폭 324 |  반복 1 / 2 | 시간 0[s] | 손실 1.00\n",
      "| 에폭 325 |  반복 1 / 2 | 시간 0[s] | 손실 0.87\n",
      "| 에폭 326 |  반복 1 / 2 | 시간 0[s] | 손실 0.73\n",
      "| 에폭 327 |  반복 1 / 2 | 시간 0[s] | 손실 0.87\n",
      "| 에폭 328 |  반복 1 / 2 | 시간 0[s] | 손실 0.82\n",
      "| 에폭 329 |  반복 1 / 2 | 시간 0[s] | 손실 0.91\n",
      "| 에폭 330 |  반복 1 / 2 | 시간 0[s] | 손실 0.92\n",
      "| 에폭 331 |  반복 1 / 2 | 시간 0[s] | 손실 0.77\n",
      "| 에폭 332 |  반복 1 / 2 | 시간 0[s] | 손실 0.76\n",
      "| 에폭 333 |  반복 1 / 2 | 시간 0[s] | 손실 0.96\n",
      "| 에폭 334 |  반복 1 / 2 | 시간 0[s] | 손실 0.76\n",
      "| 에폭 335 |  반복 1 / 2 | 시간 0[s] | 손실 0.88\n",
      "| 에폭 336 |  반복 1 / 2 | 시간 0[s] | 손실 0.86\n",
      "| 에폭 337 |  반복 1 / 2 | 시간 0[s] | 손실 0.85\n",
      "| 에폭 338 |  반복 1 / 2 | 시간 0[s] | 손실 0.81\n",
      "| 에폭 339 |  반복 1 / 2 | 시간 0[s] | 손실 0.83\n",
      "| 에폭 340 |  반복 1 / 2 | 시간 0[s] | 손실 0.90\n",
      "| 에폭 341 |  반복 1 / 2 | 시간 0[s] | 손실 0.65\n",
      "| 에폭 342 |  반복 1 / 2 | 시간 0[s] | 손실 0.80\n",
      "| 에폭 343 |  반복 1 / 2 | 시간 0[s] | 손실 0.96\n",
      "| 에폭 344 |  반복 1 / 2 | 시간 0[s] | 손실 0.80\n",
      "| 에폭 345 |  반복 1 / 2 | 시간 0[s] | 손실 0.76\n",
      "| 에폭 346 |  반복 1 / 2 | 시간 0[s] | 손실 0.81\n",
      "| 에폭 347 |  반복 1 / 2 | 시간 0[s] | 손실 0.88\n",
      "| 에폭 348 |  반복 1 / 2 | 시간 0[s] | 손실 0.75\n",
      "| 에폭 349 |  반복 1 / 2 | 시간 0[s] | 손실 0.86\n",
      "| 에폭 350 |  반복 1 / 2 | 시간 0[s] | 손실 0.73\n",
      "| 에폭 351 |  반복 1 / 2 | 시간 0[s] | 손실 0.77\n",
      "| 에폭 352 |  반복 1 / 2 | 시간 0[s] | 손실 0.73\n",
      "| 에폭 353 |  반복 1 / 2 | 시간 0[s] | 손실 0.93\n",
      "| 에폭 354 |  반복 1 / 2 | 시간 0[s] | 손실 0.74\n",
      "| 에폭 355 |  반복 1 / 2 | 시간 0[s] | 손실 0.92\n",
      "| 에폭 356 |  반복 1 / 2 | 시간 0[s] | 손실 0.60\n",
      "| 에폭 357 |  반복 1 / 2 | 시간 0[s] | 손실 0.99\n",
      "| 에폭 358 |  반복 1 / 2 | 시간 0[s] | 손실 0.66\n",
      "| 에폭 359 |  반복 1 / 2 | 시간 0[s] | 손실 0.92\n",
      "| 에폭 360 |  반복 1 / 2 | 시간 0[s] | 손실 0.80\n",
      "| 에폭 361 |  반복 1 / 2 | 시간 0[s] | 손실 0.66\n",
      "| 에폭 362 |  반복 1 / 2 | 시간 0[s] | 손실 0.72\n",
      "| 에폭 363 |  반복 1 / 2 | 시간 0[s] | 손실 0.97\n",
      "| 에폭 364 |  반복 1 / 2 | 시간 0[s] | 손실 0.67\n",
      "| 에폭 365 |  반복 1 / 2 | 시간 0[s] | 손실 0.90\n",
      "| 에폭 366 |  반복 1 / 2 | 시간 0[s] | 손실 0.78\n",
      "| 에폭 367 |  반복 1 / 2 | 시간 0[s] | 손실 0.73\n",
      "| 에폭 368 |  반복 1 / 2 | 시간 0[s] | 손실 0.76\n",
      "| 에폭 369 |  반복 1 / 2 | 시간 0[s] | 손실 0.72\n",
      "| 에폭 370 |  반복 1 / 2 | 시간 0[s] | 손실 0.83\n",
      "| 에폭 371 |  반복 1 / 2 | 시간 0[s] | 손실 0.84\n",
      "| 에폭 372 |  반복 1 / 2 | 시간 0[s] | 손실 0.77\n",
      "| 에폭 373 |  반복 1 / 2 | 시간 0[s] | 손실 0.72\n",
      "| 에폭 374 |  반복 1 / 2 | 시간 0[s] | 손실 0.70\n",
      "| 에폭 375 |  반복 1 / 2 | 시간 0[s] | 손실 0.84\n",
      "| 에폭 376 |  반복 1 / 2 | 시간 0[s] | 손실 0.82\n",
      "| 에폭 377 |  반복 1 / 2 | 시간 0[s] | 손실 0.70\n",
      "| 에폭 378 |  반복 1 / 2 | 시간 0[s] | 손실 0.84\n",
      "| 에폭 379 |  반복 1 / 2 | 시간 0[s] | 손실 0.76\n",
      "| 에폭 380 |  반복 1 / 2 | 시간 0[s] | 손실 0.76\n",
      "| 에폭 381 |  반복 1 / 2 | 시간 0[s] | 손실 0.70\n",
      "| 에폭 382 |  반복 1 / 2 | 시간 0[s] | 손실 0.81\n",
      "| 에폭 383 |  반복 1 / 2 | 시간 0[s] | 손실 0.63\n",
      "| 에폭 384 |  반복 1 / 2 | 시간 0[s] | 손실 0.83\n",
      "| 에폭 385 |  반복 1 / 2 | 시간 0[s] | 손실 0.74\n",
      "| 에폭 386 |  반복 1 / 2 | 시간 0[s] | 손실 0.77\n",
      "| 에폭 387 |  반복 1 / 2 | 시간 0[s] | 손실 0.68\n",
      "| 에폭 388 |  반복 1 / 2 | 시간 0[s] | 손실 0.75\n",
      "| 에폭 389 |  반복 1 / 2 | 시간 0[s] | 손실 0.88\n",
      "| 에폭 390 |  반복 1 / 2 | 시간 0[s] | 손실 0.68\n",
      "| 에폭 391 |  반복 1 / 2 | 시간 0[s] | 손실 0.74\n",
      "| 에폭 392 |  반복 1 / 2 | 시간 0[s] | 손실 0.69\n",
      "| 에폭 393 |  반복 1 / 2 | 시간 0[s] | 손실 0.80\n",
      "| 에폭 394 |  반복 1 / 2 | 시간 0[s] | 손실 0.62\n",
      "| 에폭 395 |  반복 1 / 2 | 시간 0[s] | 손실 0.89\n",
      "| 에폭 396 |  반복 1 / 2 | 시간 0[s] | 손실 0.66\n",
      "| 에폭 397 |  반복 1 / 2 | 시간 0[s] | 손실 0.88\n",
      "| 에폭 398 |  반복 1 / 2 | 시간 0[s] | 손실 0.74\n",
      "| 에폭 399 |  반복 1 / 2 | 시간 0[s] | 손실 0.73\n",
      "| 에폭 400 |  반복 1 / 2 | 시간 0[s] | 손실 0.81\n",
      "| 에폭 401 |  반복 1 / 2 | 시간 0[s] | 손실 0.67\n",
      "| 에폭 402 |  반복 1 / 2 | 시간 0[s] | 손실 0.61\n",
      "| 에폭 403 |  반복 1 / 2 | 시간 0[s] | 손실 0.72\n",
      "| 에폭 404 |  반복 1 / 2 | 시간 0[s] | 손실 0.79\n",
      "| 에폭 405 |  반복 1 / 2 | 시간 0[s] | 손실 0.75\n",
      "| 에폭 406 |  반복 1 / 2 | 시간 0[s] | 손실 0.79\n",
      "| 에폭 407 |  반복 1 / 2 | 시간 0[s] | 손실 0.60\n",
      "| 에폭 408 |  반복 1 / 2 | 시간 0[s] | 손실 0.73\n",
      "| 에폭 409 |  반복 1 / 2 | 시간 0[s] | 손실 0.78\n",
      "| 에폭 410 |  반복 1 / 2 | 시간 0[s] | 손실 0.67\n",
      "| 에폭 411 |  반복 1 / 2 | 시간 0[s] | 손실 0.72\n",
      "| 에폭 412 |  반복 1 / 2 | 시간 0[s] | 손실 0.80\n",
      "| 에폭 413 |  반복 1 / 2 | 시간 0[s] | 손실 0.65\n",
      "| 에폭 414 |  반복 1 / 2 | 시간 0[s] | 손실 0.85\n",
      "| 에폭 415 |  반복 1 / 2 | 시간 0[s] | 손실 0.59\n",
      "| 에폭 416 |  반복 1 / 2 | 시간 0[s] | 손실 0.79\n",
      "| 에폭 417 |  반복 1 / 2 | 시간 0[s] | 손실 0.86\n",
      "| 에폭 418 |  반복 1 / 2 | 시간 0[s] | 손실 0.63\n",
      "| 에폭 419 |  반복 1 / 2 | 시간 0[s] | 손실 0.65\n",
      "| 에폭 420 |  반복 1 / 2 | 시간 0[s] | 손실 0.78\n",
      "| 에폭 421 |  반복 1 / 2 | 시간 0[s] | 손실 0.65\n",
      "| 에폭 422 |  반복 1 / 2 | 시간 0[s] | 손실 0.65\n",
      "| 에폭 423 |  반복 1 / 2 | 시간 0[s] | 손실 0.86\n",
      "| 에폭 424 |  반복 1 / 2 | 시간 0[s] | 손실 0.58\n",
      "| 에폭 425 |  반복 1 / 2 | 시간 0[s] | 손실 0.77\n",
      "| 에폭 426 |  반복 1 / 2 | 시간 0[s] | 손실 0.63\n",
      "| 에폭 427 |  반복 1 / 2 | 시간 0[s] | 손실 0.71\n",
      "| 에폭 428 |  반복 1 / 2 | 시간 0[s] | 손실 0.77\n",
      "| 에폭 429 |  반복 1 / 2 | 시간 0[s] | 손실 0.66\n",
      "| 에폭 430 |  반복 1 / 2 | 시간 0[s] | 손실 0.69\n",
      "| 에폭 431 |  반복 1 / 2 | 시간 0[s] | 손실 0.72\n",
      "| 에폭 432 |  반복 1 / 2 | 시간 0[s] | 손실 0.70\n",
      "| 에폭 433 |  반복 1 / 2 | 시간 0[s] | 손실 0.83\n",
      "| 에폭 434 |  반복 1 / 2 | 시간 0[s] | 손실 0.55\n",
      "| 에폭 435 |  반복 1 / 2 | 시간 0[s] | 손실 0.85\n",
      "| 에폭 436 |  반복 1 / 2 | 시간 0[s] | 손실 0.61\n",
      "| 에폭 437 |  반복 1 / 2 | 시간 0[s] | 손실 0.72\n",
      "| 에폭 438 |  반복 1 / 2 | 시간 0[s] | 손실 0.76\n",
      "| 에폭 439 |  반복 1 / 2 | 시간 0[s] | 손실 0.70\n",
      "| 에폭 440 |  반복 1 / 2 | 시간 0[s] | 손실 0.55\n",
      "| 에폭 441 |  반복 1 / 2 | 시간 0[s] | 손실 0.70\n",
      "| 에폭 442 |  반복 1 / 2 | 시간 0[s] | 손실 0.84\n",
      "| 에폭 443 |  반복 1 / 2 | 시간 0[s] | 손실 0.69\n",
      "| 에폭 444 |  반복 1 / 2 | 시간 0[s] | 손실 0.69\n",
      "| 에폭 445 |  반복 1 / 2 | 시간 0[s] | 손실 0.69\n",
      "| 에폭 446 |  반복 1 / 2 | 시간 0[s] | 손실 0.67\n",
      "| 에폭 447 |  반복 1 / 2 | 시간 0[s] | 손실 0.62\n",
      "| 에폭 448 |  반복 1 / 2 | 시간 0[s] | 손실 0.56\n",
      "| 에폭 449 |  반복 1 / 2 | 시간 0[s] | 손실 0.69\n",
      "| 에폭 450 |  반복 1 / 2 | 시간 0[s] | 손실 0.97\n",
      "| 에폭 451 |  반복 1 / 2 | 시간 0[s] | 손실 0.40\n",
      "| 에폭 452 |  반복 1 / 2 | 시간 0[s] | 손실 0.75\n",
      "| 에폭 453 |  반복 1 / 2 | 시간 0[s] | 손실 0.69\n",
      "| 에폭 454 |  반복 1 / 2 | 시간 0[s] | 손실 0.68\n",
      "| 에폭 455 |  반복 1 / 2 | 시간 0[s] | 손실 0.71\n",
      "| 에폭 456 |  반복 1 / 2 | 시간 0[s] | 손실 0.66\n",
      "| 에폭 457 |  반복 1 / 2 | 시간 0[s] | 손실 0.84\n",
      "| 에폭 458 |  반복 1 / 2 | 시간 0[s] | 손실 0.62\n",
      "| 에폭 459 |  반복 1 / 2 | 시간 0[s] | 손실 0.61\n",
      "| 에폭 460 |  반복 1 / 2 | 시간 0[s] | 손실 0.72\n",
      "| 에폭 461 |  반복 1 / 2 | 시간 0[s] | 손실 0.70\n",
      "| 에폭 462 |  반복 1 / 2 | 시간 0[s] | 손실 0.74\n",
      "| 에폭 463 |  반복 1 / 2 | 시간 0[s] | 손실 0.65\n",
      "| 에폭 464 |  반복 1 / 2 | 시간 0[s] | 손실 0.55\n"
     ]
    },
    {
     "name": "stdout",
     "output_type": "stream",
     "text": [
      "| 에폭 465 |  반복 1 / 2 | 시간 0[s] | 손실 0.90\n",
      "| 에폭 466 |  반복 1 / 2 | 시간 0[s] | 손실 0.61\n",
      "| 에폭 467 |  반복 1 / 2 | 시간 0[s] | 손실 0.58\n",
      "| 에폭 468 |  반복 1 / 2 | 시간 0[s] | 손실 0.67\n",
      "| 에폭 469 |  반복 1 / 2 | 시간 0[s] | 손실 0.83\n",
      "| 에폭 470 |  반복 1 / 2 | 시간 0[s] | 손실 0.54\n",
      "| 에폭 471 |  반복 1 / 2 | 시간 0[s] | 손실 0.64\n",
      "| 에폭 472 |  반복 1 / 2 | 시간 0[s] | 손실 0.76\n",
      "| 에폭 473 |  반복 1 / 2 | 시간 0[s] | 손실 0.54\n",
      "| 에폭 474 |  반복 1 / 2 | 시간 0[s] | 손실 0.73\n",
      "| 에폭 475 |  반복 1 / 2 | 시간 0[s] | 손실 0.64\n",
      "| 에폭 476 |  반복 1 / 2 | 시간 0[s] | 손실 0.76\n",
      "| 에폭 477 |  반복 1 / 2 | 시간 0[s] | 손실 0.54\n",
      "| 에폭 478 |  반복 1 / 2 | 시간 0[s] | 손실 0.57\n",
      "| 에폭 479 |  반복 1 / 2 | 시간 0[s] | 손실 0.96\n",
      "| 에폭 480 |  반복 1 / 2 | 시간 0[s] | 손실 0.57\n",
      "| 에폭 481 |  반복 1 / 2 | 시간 0[s] | 손실 0.69\n",
      "| 에폭 482 |  반복 1 / 2 | 시간 0[s] | 손실 0.60\n",
      "| 에폭 483 |  반복 1 / 2 | 시간 0[s] | 손실 0.50\n",
      "| 에폭 484 |  반복 1 / 2 | 시간 0[s] | 손실 0.86\n",
      "| 에폭 485 |  반복 1 / 2 | 시간 0[s] | 손실 0.53\n",
      "| 에폭 486 |  반복 1 / 2 | 시간 0[s] | 손실 0.66\n",
      "| 에폭 487 |  반복 1 / 2 | 시간 0[s] | 손실 0.82\n",
      "| 에폭 488 |  반복 1 / 2 | 시간 0[s] | 손실 0.43\n",
      "| 에폭 489 |  반복 1 / 2 | 시간 0[s] | 손실 0.89\n",
      "| 에폭 490 |  반복 1 / 2 | 시간 0[s] | 손실 0.59\n",
      "| 에폭 491 |  반복 1 / 2 | 시간 0[s] | 손실 0.56\n",
      "| 에폭 492 |  반복 1 / 2 | 시간 0[s] | 손실 0.82\n",
      "| 에폭 493 |  반복 1 / 2 | 시간 0[s] | 손실 0.49\n",
      "| 에폭 494 |  반복 1 / 2 | 시간 0[s] | 손실 0.79\n",
      "| 에폭 495 |  반복 1 / 2 | 시간 0[s] | 손실 0.56\n",
      "| 에폭 496 |  반복 1 / 2 | 시간 0[s] | 손실 0.65\n",
      "| 에폭 497 |  반복 1 / 2 | 시간 0[s] | 손실 0.56\n",
      "| 에폭 498 |  반복 1 / 2 | 시간 0[s] | 손실 0.65\n",
      "| 에폭 499 |  반복 1 / 2 | 시간 0[s] | 손실 0.78\n",
      "| 에폭 500 |  반복 1 / 2 | 시간 0[s] | 손실 0.59\n",
      "| 에폭 501 |  반복 1 / 2 | 시간 0[s] | 손실 0.75\n",
      "| 에폭 502 |  반복 1 / 2 | 시간 0[s] | 손실 0.62\n",
      "| 에폭 503 |  반복 1 / 2 | 시간 0[s] | 손실 0.75\n",
      "| 에폭 504 |  반복 1 / 2 | 시간 0[s] | 손실 0.52\n",
      "| 에폭 505 |  반복 1 / 2 | 시간 0[s] | 손실 0.68\n",
      "| 에폭 506 |  반복 1 / 2 | 시간 0[s] | 손실 0.72\n",
      "| 에폭 507 |  반복 1 / 2 | 시간 0[s] | 손실 0.45\n",
      "| 에폭 508 |  반복 1 / 2 | 시간 0[s] | 손실 0.88\n",
      "| 에폭 509 |  반복 1 / 2 | 시간 0[s] | 손실 0.48\n",
      "| 에폭 510 |  반복 1 / 2 | 시간 0[s] | 손실 0.75\n",
      "| 에폭 511 |  반복 1 / 2 | 시간 0[s] | 손실 0.65\n",
      "| 에폭 512 |  반복 1 / 2 | 시간 0[s] | 손실 0.55\n",
      "| 에폭 513 |  반복 1 / 2 | 시간 0[s] | 손실 0.65\n",
      "| 에폭 514 |  반복 1 / 2 | 시간 0[s] | 손실 0.71\n",
      "| 에폭 515 |  반복 1 / 2 | 시간 0[s] | 손실 0.58\n",
      "| 에폭 516 |  반복 1 / 2 | 시간 0[s] | 손실 0.75\n",
      "| 에폭 517 |  반복 1 / 2 | 시간 0[s] | 손실 0.60\n",
      "| 에폭 518 |  반복 1 / 2 | 시간 0[s] | 손실 0.64\n",
      "| 에폭 519 |  반복 1 / 2 | 시간 0[s] | 손실 0.57\n",
      "| 에폭 520 |  반복 1 / 2 | 시간 0[s] | 손실 0.81\n",
      "| 에폭 521 |  반복 1 / 2 | 시간 0[s] | 손실 0.41\n",
      "| 에폭 522 |  반복 1 / 2 | 시간 0[s] | 손실 0.74\n",
      "| 에폭 523 |  반복 1 / 2 | 시간 0[s] | 손실 0.77\n",
      "| 에폭 524 |  반복 1 / 2 | 시간 0[s] | 손실 0.51\n",
      "| 에폭 525 |  반복 1 / 2 | 시간 0[s] | 손실 0.77\n",
      "| 에폭 526 |  반복 1 / 2 | 시간 0[s] | 손실 0.41\n",
      "| 에폭 527 |  반복 1 / 2 | 시간 0[s] | 손실 0.80\n",
      "| 에폭 528 |  반복 1 / 2 | 시간 0[s] | 손실 0.54\n",
      "| 에폭 529 |  반복 1 / 2 | 시간 0[s] | 손실 0.64\n",
      "| 에폭 530 |  반복 1 / 2 | 시간 0[s] | 손실 0.70\n",
      "| 에폭 531 |  반복 1 / 2 | 시간 0[s] | 손실 0.74\n",
      "| 에폭 532 |  반복 1 / 2 | 시간 0[s] | 손실 0.50\n",
      "| 에폭 533 |  반복 1 / 2 | 시간 0[s] | 손실 0.70\n",
      "| 에폭 534 |  반복 1 / 2 | 시간 0[s] | 손실 0.57\n",
      "| 에폭 535 |  반복 1 / 2 | 시간 0[s] | 손실 0.66\n",
      "| 에폭 536 |  반복 1 / 2 | 시간 0[s] | 손실 0.50\n",
      "| 에폭 537 |  반복 1 / 2 | 시간 0[s] | 손실 0.83\n",
      "| 에폭 538 |  반복 1 / 2 | 시간 0[s] | 손실 0.57\n",
      "| 에폭 539 |  반복 1 / 2 | 시간 0[s] | 손실 0.60\n",
      "| 에폭 540 |  반복 1 / 2 | 시간 0[s] | 손실 0.59\n",
      "| 에폭 541 |  반복 1 / 2 | 시간 0[s] | 손실 0.63\n",
      "| 에폭 542 |  반복 1 / 2 | 시간 0[s] | 손실 0.80\n",
      "| 에폭 543 |  반복 1 / 2 | 시간 0[s] | 손실 0.56\n",
      "| 에폭 544 |  반복 1 / 2 | 시간 0[s] | 손실 0.66\n",
      "| 에폭 545 |  반복 1 / 2 | 시간 0[s] | 손실 0.57\n",
      "| 에폭 546 |  반복 1 / 2 | 시간 0[s] | 손실 0.50\n",
      "| 에폭 547 |  반복 1 / 2 | 시간 0[s] | 손실 0.82\n",
      "| 에폭 548 |  반복 1 / 2 | 시간 0[s] | 손실 0.67\n",
      "| 에폭 549 |  반복 1 / 2 | 시간 0[s] | 손실 0.56\n",
      "| 에폭 550 |  반복 1 / 2 | 시간 0[s] | 손실 0.52\n",
      "| 에폭 551 |  반복 1 / 2 | 시간 0[s] | 손실 0.73\n",
      "| 에폭 552 |  반복 1 / 2 | 시간 0[s] | 손실 0.69\n",
      "| 에폭 553 |  반복 1 / 2 | 시간 0[s] | 손실 0.52\n",
      "| 에폭 554 |  반복 1 / 2 | 시간 0[s] | 손실 0.56\n",
      "| 에폭 555 |  반복 1 / 2 | 시간 0[s] | 손실 0.66\n",
      "| 에폭 556 |  반복 1 / 2 | 시간 0[s] | 손실 0.71\n",
      "| 에폭 557 |  반복 1 / 2 | 시간 0[s] | 손실 0.73\n",
      "| 에폭 558 |  반복 1 / 2 | 시간 0[s] | 손실 0.46\n",
      "| 에폭 559 |  반복 1 / 2 | 시간 0[s] | 손실 0.66\n",
      "| 에폭 560 |  반복 1 / 2 | 시간 0[s] | 손실 0.52\n",
      "| 에폭 561 |  반복 1 / 2 | 시간 0[s] | 손실 0.79\n",
      "| 에폭 562 |  반복 1 / 2 | 시간 0[s] | 손실 0.45\n",
      "| 에폭 563 |  반복 1 / 2 | 시간 0[s] | 손실 0.75\n",
      "| 에폭 564 |  반복 1 / 2 | 시간 0[s] | 손실 0.60\n",
      "| 에폭 565 |  반복 1 / 2 | 시간 0[s] | 손실 0.52\n",
      "| 에폭 566 |  반복 1 / 2 | 시간 0[s] | 손실 0.56\n",
      "| 에폭 567 |  반복 1 / 2 | 시간 0[s] | 손실 0.85\n",
      "| 에폭 568 |  반복 1 / 2 | 시간 0[s] | 손실 0.56\n",
      "| 에폭 569 |  반복 1 / 2 | 시간 0[s] | 손실 0.68\n",
      "| 에폭 570 |  반복 1 / 2 | 시간 0[s] | 손실 0.68\n",
      "| 에폭 571 |  반복 1 / 2 | 시간 0[s] | 손실 0.42\n",
      "| 에폭 572 |  반복 1 / 2 | 시간 0[s] | 손실 0.75\n",
      "| 에폭 573 |  반복 1 / 2 | 시간 0[s] | 손실 0.62\n",
      "| 에폭 574 |  반복 1 / 2 | 시간 0[s] | 손실 0.55\n",
      "| 에폭 575 |  반복 1 / 2 | 시간 0[s] | 손실 0.62\n",
      "| 에폭 576 |  반복 1 / 2 | 시간 0[s] | 손실 0.74\n",
      "| 에폭 577 |  반복 1 / 2 | 시간 0[s] | 손실 0.38\n",
      "| 에폭 578 |  반복 1 / 2 | 시간 0[s] | 손실 0.61\n",
      "| 에폭 579 |  반복 1 / 2 | 시간 0[s] | 손실 0.79\n",
      "| 에폭 580 |  반복 1 / 2 | 시간 0[s] | 손실 0.44\n",
      "| 에폭 581 |  반복 1 / 2 | 시간 0[s] | 손실 0.61\n",
      "| 에폭 582 |  반복 1 / 2 | 시간 0[s] | 손실 0.74\n",
      "| 에폭 583 |  반복 1 / 2 | 시간 0[s] | 손실 0.55\n",
      "| 에폭 584 |  반복 1 / 2 | 시간 0[s] | 손실 0.61\n",
      "| 에폭 585 |  반복 1 / 2 | 시간 0[s] | 손실 0.66\n",
      "| 에폭 586 |  반복 1 / 2 | 시간 0[s] | 손실 0.64\n",
      "| 에폭 587 |  반복 1 / 2 | 시간 0[s] | 손실 0.48\n",
      "| 에폭 588 |  반복 1 / 2 | 시간 0[s] | 손실 0.61\n",
      "| 에폭 589 |  반복 1 / 2 | 시간 0[s] | 손실 0.61\n",
      "| 에폭 590 |  반복 1 / 2 | 시간 0[s] | 손실 0.61\n",
      "| 에폭 591 |  반복 1 / 2 | 시간 0[s] | 손실 0.61\n",
      "| 에폭 592 |  반복 1 / 2 | 시간 0[s] | 손실 0.78\n",
      "| 에폭 593 |  반복 1 / 2 | 시간 0[s] | 손실 0.48\n",
      "| 에폭 594 |  반복 1 / 2 | 시간 0[s] | 손실 0.63\n",
      "| 에폭 595 |  반복 1 / 2 | 시간 0[s] | 손실 0.61\n",
      "| 에폭 596 |  반복 1 / 2 | 시간 0[s] | 손실 0.48\n",
      "| 에폭 597 |  반복 1 / 2 | 시간 0[s] | 손실 0.61\n",
      "| 에폭 598 |  반복 1 / 2 | 시간 0[s] | 손실 0.78\n",
      "| 에폭 599 |  반복 1 / 2 | 시간 0[s] | 손실 0.60\n",
      "| 에폭 600 |  반복 1 / 2 | 시간 0[s] | 손실 0.63\n",
      "| 에폭 601 |  반복 1 / 2 | 시간 0[s] | 손실 0.54\n",
      "| 에폭 602 |  반복 1 / 2 | 시간 0[s] | 손실 0.54\n",
      "| 에폭 603 |  반복 1 / 2 | 시간 0[s] | 손실 0.61\n",
      "| 에폭 604 |  반복 1 / 2 | 시간 0[s] | 손실 0.61\n",
      "| 에폭 605 |  반복 1 / 2 | 시간 0[s] | 손실 0.54\n",
      "| 에폭 606 |  반복 1 / 2 | 시간 0[s] | 손실 0.84\n",
      "| 에폭 607 |  반복 1 / 2 | 시간 0[s] | 손실 0.60\n",
      "| 에폭 608 |  반복 1 / 2 | 시간 0[s] | 손실 0.43\n",
      "| 에폭 609 |  반복 1 / 2 | 시간 0[s] | 손실 0.78\n",
      "| 에폭 610 |  반복 1 / 2 | 시간 0[s] | 손실 0.47\n",
      "| 에폭 611 |  반복 1 / 2 | 시간 0[s] | 손실 0.62\n",
      "| 에폭 612 |  반복 1 / 2 | 시간 0[s] | 손실 0.54\n",
      "| 에폭 613 |  반복 1 / 2 | 시간 0[s] | 손실 0.73\n",
      "| 에폭 614 |  반복 1 / 2 | 시간 0[s] | 손실 0.54\n",
      "| 에폭 615 |  반복 1 / 2 | 시간 0[s] | 손실 0.54\n",
      "| 에폭 616 |  반복 1 / 2 | 시간 0[s] | 손실 0.60\n",
      "| 에폭 617 |  반복 1 / 2 | 시간 0[s] | 손실 0.66\n",
      "| 에폭 618 |  반복 1 / 2 | 시간 0[s] | 손실 0.60\n",
      "| 에폭 619 |  반복 1 / 2 | 시간 0[s] | 손실 0.71\n",
      "| 에폭 620 |  반복 1 / 2 | 시간 0[s] | 손실 0.60\n",
      "| 에폭 621 |  반복 1 / 2 | 시간 0[s] | 손실 0.60\n",
      "| 에폭 622 |  반복 1 / 2 | 시간 0[s] | 손실 0.55\n",
      "| 에폭 623 |  반복 1 / 2 | 시간 0[s] | 손실 0.54\n",
      "| 에폭 624 |  반복 1 / 2 | 시간 0[s] | 손실 0.58\n",
      "| 에폭 625 |  반복 1 / 2 | 시간 0[s] | 손실 0.60\n",
      "| 에폭 626 |  반복 1 / 2 | 시간 0[s] | 손실 0.60\n",
      "| 에폭 627 |  반복 1 / 2 | 시간 0[s] | 손실 0.62\n",
      "| 에폭 628 |  반복 1 / 2 | 시간 0[s] | 손실 0.66\n",
      "| 에폭 629 |  반복 1 / 2 | 시간 0[s] | 손실 0.53\n",
      "| 에폭 630 |  반복 1 / 2 | 시간 0[s] | 손실 0.53\n",
      "| 에폭 631 |  반복 1 / 2 | 시간 0[s] | 손실 0.60\n",
      "| 에폭 632 |  반복 1 / 2 | 시간 0[s] | 손실 0.60\n",
      "| 에폭 633 |  반복 1 / 2 | 시간 0[s] | 손실 0.66\n",
      "| 에폭 634 |  반복 1 / 2 | 시간 0[s] | 손실 0.57\n",
      "| 에폭 635 |  반복 1 / 2 | 시간 0[s] | 손실 0.49\n",
      "| 에폭 636 |  반복 1 / 2 | 시간 0[s] | 손실 0.70\n",
      "| 에폭 637 |  반복 1 / 2 | 시간 0[s] | 손실 0.61\n",
      "| 에폭 638 |  반복 1 / 2 | 시간 0[s] | 손실 0.53\n",
      "| 에폭 639 |  반복 1 / 2 | 시간 0[s] | 손실 0.77\n",
      "| 에폭 640 |  반복 1 / 2 | 시간 0[s] | 손실 0.48\n",
      "| 에폭 641 |  반복 1 / 2 | 시간 0[s] | 손실 0.64\n",
      "| 에폭 642 |  반복 1 / 2 | 시간 0[s] | 손실 0.61\n",
      "| 에폭 643 |  반복 1 / 2 | 시간 0[s] | 손실 0.59\n",
      "| 에폭 644 |  반복 1 / 2 | 시간 0[s] | 손실 0.46\n",
      "| 에폭 645 |  반복 1 / 2 | 시간 0[s] | 손실 0.59\n",
      "| 에폭 646 |  반복 1 / 2 | 시간 0[s] | 손실 0.59\n",
      "| 에폭 647 |  반복 1 / 2 | 시간 0[s] | 손실 0.77\n",
      "| 에폭 648 |  반복 1 / 2 | 시간 0[s] | 손실 0.48\n",
      "| 에폭 649 |  반복 1 / 2 | 시간 0[s] | 손실 0.64\n",
      "| 에폭 650 |  반복 1 / 2 | 시간 0[s] | 손실 0.53\n",
      "| 에폭 651 |  반복 1 / 2 | 시간 0[s] | 손실 0.54\n",
      "| 에폭 652 |  반복 1 / 2 | 시간 0[s] | 손실 0.64\n",
      "| 에폭 653 |  반복 1 / 2 | 시간 0[s] | 손실 0.72\n",
      "| 에폭 654 |  반복 1 / 2 | 시간 0[s] | 손실 0.46\n",
      "| 에폭 655 |  반복 1 / 2 | 시간 0[s] | 손실 0.54\n",
      "| 에폭 656 |  반복 1 / 2 | 시간 0[s] | 손실 0.59\n",
      "| 에폭 657 |  반복 1 / 2 | 시간 0[s] | 손실 0.65\n",
      "| 에폭 658 |  반복 1 / 2 | 시간 0[s] | 손실 0.52\n",
      "| 에폭 659 |  반복 1 / 2 | 시간 0[s] | 손실 0.59\n",
      "| 에폭 660 |  반복 1 / 2 | 시간 0[s] | 손실 0.76\n",
      "| 에폭 661 |  반복 1 / 2 | 시간 0[s] | 손실 0.52\n",
      "| 에폭 662 |  반복 1 / 2 | 시간 0[s] | 손실 0.48\n",
      "| 에폭 663 |  반복 1 / 2 | 시간 0[s] | 손실 0.65\n",
      "| 에폭 664 |  반복 1 / 2 | 시간 0[s] | 손실 0.59\n",
      "| 에폭 665 |  반복 1 / 2 | 시간 0[s] | 손실 0.63\n",
      "| 에폭 666 |  반복 1 / 2 | 시간 0[s] | 손실 0.47\n",
      "| 에폭 667 |  반복 1 / 2 | 시간 0[s] | 손실 0.63\n",
      "| 에폭 668 |  반복 1 / 2 | 시간 0[s] | 손실 0.78\n",
      "| 에폭 669 |  반복 1 / 2 | 시간 0[s] | 손실 0.47\n",
      "| 에폭 670 |  반복 1 / 2 | 시간 0[s] | 손실 0.52\n",
      "| 에폭 671 |  반복 1 / 2 | 시간 0[s] | 손실 0.52\n",
      "| 에폭 672 |  반복 1 / 2 | 시간 0[s] | 손실 0.58\n",
      "| 에폭 673 |  반복 1 / 2 | 시간 0[s] | 손실 0.76\n",
      "| 에폭 674 |  반복 1 / 2 | 시간 0[s] | 손실 0.35\n",
      "| 에폭 675 |  반복 1 / 2 | 시간 0[s] | 손실 0.65\n",
      "| 에폭 676 |  반복 1 / 2 | 시간 0[s] | 손실 0.63\n",
      "| 에폭 677 |  반복 1 / 2 | 시간 0[s] | 손실 0.53\n",
      "| 에폭 678 |  반복 1 / 2 | 시간 0[s] | 손실 0.65\n",
      "| 에폭 679 |  반복 1 / 2 | 시간 0[s] | 손실 0.69\n",
      "| 에폭 680 |  반복 1 / 2 | 시간 0[s] | 손실 0.41\n",
      "| 에폭 681 |  반복 1 / 2 | 시간 0[s] | 손실 0.63\n",
      "| 에폭 682 |  반복 1 / 2 | 시간 0[s] | 손실 0.77\n",
      "| 에폭 683 |  반복 1 / 2 | 시간 0[s] | 손실 0.34\n",
      "| 에폭 684 |  반복 1 / 2 | 시간 0[s] | 손실 0.69\n",
      "| 에폭 685 |  반복 1 / 2 | 시간 0[s] | 손실 0.64\n",
      "| 에폭 686 |  반복 1 / 2 | 시간 0[s] | 손실 0.58\n",
      "| 에폭 687 |  반복 1 / 2 | 시간 0[s] | 손실 0.47\n",
      "| 에폭 688 |  반복 1 / 2 | 시간 0[s] | 손실 0.64\n",
      "| 에폭 689 |  반복 1 / 2 | 시간 0[s] | 손실 0.56\n",
      "| 에폭 690 |  반복 1 / 2 | 시간 0[s] | 손실 0.59\n",
      "| 에폭 691 |  반복 1 / 2 | 시간 0[s] | 손실 0.51\n",
      "| 에폭 692 |  반복 1 / 2 | 시간 0[s] | 손실 0.51\n",
      "| 에폭 693 |  반복 1 / 2 | 시간 0[s] | 손실 0.58\n",
      "| 에폭 694 |  반복 1 / 2 | 시간 0[s] | 손실 0.69\n",
      "| 에폭 695 |  반복 1 / 2 | 시간 0[s] | 손실 0.47\n",
      "| 에폭 696 |  반복 1 / 2 | 시간 0[s] | 손실 0.64\n",
      "| 에폭 697 |  반복 1 / 2 | 시간 0[s] | 손실 0.51\n",
      "| 에폭 698 |  반복 1 / 2 | 시간 0[s] | 손실 0.69\n",
      "| 에폭 699 |  반복 1 / 2 | 시간 0[s] | 손실 0.59\n",
      "| 에폭 700 |  반복 1 / 2 | 시간 0[s] | 손실 0.69\n",
      "| 에폭 701 |  반복 1 / 2 | 시간 0[s] | 손실 0.46\n",
      "| 에폭 702 |  반복 1 / 2 | 시간 0[s] | 손실 0.62\n",
      "| 에폭 703 |  반복 1 / 2 | 시간 0[s] | 손실 0.46\n",
      "| 에폭 704 |  반복 1 / 2 | 시간 0[s] | 손실 0.68\n",
      "| 에폭 705 |  반복 1 / 2 | 시간 0[s] | 손실 0.45\n",
      "| 에폭 706 |  반복 1 / 2 | 시간 0[s] | 손실 0.57\n",
      "| 에폭 707 |  반복 1 / 2 | 시간 0[s] | 손실 0.65\n",
      "| 에폭 708 |  반복 1 / 2 | 시간 0[s] | 손실 0.57\n",
      "| 에폭 709 |  반복 1 / 2 | 시간 0[s] | 손실 0.68\n",
      "| 에폭 710 |  반복 1 / 2 | 시간 0[s] | 손실 0.46\n",
      "| 에폭 711 |  반복 1 / 2 | 시간 0[s] | 손실 0.45\n",
      "| 에폭 712 |  반복 1 / 2 | 시간 0[s] | 손실 0.57\n",
      "| 에폭 713 |  반복 1 / 2 | 시간 0[s] | 손실 0.70\n",
      "| 에폭 714 |  반복 1 / 2 | 시간 0[s] | 손실 0.49\n",
      "| 에폭 715 |  반복 1 / 2 | 시간 0[s] | 손실 0.52\n",
      "| 에폭 716 |  반복 1 / 2 | 시간 0[s] | 손실 0.51\n",
      "| 에폭 717 |  반복 1 / 2 | 시간 0[s] | 손실 0.63\n",
      "| 에폭 718 |  반복 1 / 2 | 시간 0[s] | 손실 0.70\n",
      "| 에폭 719 |  반복 1 / 2 | 시간 0[s] | 손실 0.55\n",
      "| 에폭 720 |  반복 1 / 2 | 시간 0[s] | 손실 0.63\n",
      "| 에폭 721 |  반복 1 / 2 | 시간 0[s] | 손실 0.44\n",
      "| 에폭 722 |  반복 1 / 2 | 시간 0[s] | 손실 0.58\n",
      "| 에폭 723 |  반복 1 / 2 | 시간 0[s] | 손실 0.74\n",
      "| 에폭 724 |  반복 1 / 2 | 시간 0[s] | 손실 0.44\n",
      "| 에폭 725 |  반복 1 / 2 | 시간 0[s] | 손실 0.63\n",
      "| 에폭 726 |  반복 1 / 2 | 시간 0[s] | 손실 0.52\n",
      "| 에폭 727 |  반복 1 / 2 | 시간 0[s] | 손실 0.50\n",
      "| 에폭 728 |  반복 1 / 2 | 시간 0[s] | 손실 0.68\n",
      "| 에폭 729 |  반복 1 / 2 | 시간 0[s] | 손실 0.57\n",
      "| 에폭 730 |  반복 1 / 2 | 시간 0[s] | 손실 0.57\n",
      "| 에폭 731 |  반복 1 / 2 | 시간 0[s] | 손실 0.52\n",
      "| 에폭 732 |  반복 1 / 2 | 시간 0[s] | 손실 0.44\n",
      "| 에폭 733 |  반복 1 / 2 | 시간 0[s] | 손실 0.57\n",
      "| 에폭 734 |  반복 1 / 2 | 시간 0[s] | 손실 0.63\n",
      "| 에폭 735 |  반복 1 / 2 | 시간 0[s] | 손실 0.44\n",
      "| 에폭 736 |  반복 1 / 2 | 시간 0[s] | 손실 0.80\n",
      "| 에폭 737 |  반복 1 / 2 | 시간 0[s] | 손실 0.33\n",
      "| 에폭 738 |  반복 1 / 2 | 시간 0[s] | 손실 0.86\n",
      "| 에폭 739 |  반복 1 / 2 | 시간 0[s] | 손실 0.38\n",
      "| 에폭 740 |  반복 1 / 2 | 시간 0[s] | 손실 0.56\n",
      "| 에폭 741 |  반복 1 / 2 | 시간 0[s] | 손실 0.52\n",
      "| 에폭 742 |  반복 1 / 2 | 시간 0[s] | 손실 0.56\n",
      "| 에폭 743 |  반복 1 / 2 | 시간 0[s] | 손실 0.67\n",
      "| 에폭 744 |  반복 1 / 2 | 시간 0[s] | 손실 0.56\n",
      "| 에폭 745 |  반복 1 / 2 | 시간 0[s] | 손실 0.56\n",
      "| 에폭 746 |  반복 1 / 2 | 시간 0[s] | 손실 0.69\n",
      "| 에폭 747 |  반복 1 / 2 | 시간 0[s] | 손실 0.43\n",
      "| 에폭 748 |  반복 1 / 2 | 시간 0[s] | 손실 0.56\n",
      "| 에폭 749 |  반복 1 / 2 | 시간 0[s] | 손실 0.45\n",
      "| 에폭 750 |  반복 1 / 2 | 시간 0[s] | 손실 0.67\n",
      "| 에폭 751 |  반복 1 / 2 | 시간 0[s] | 손실 0.62\n",
      "| 에폭 752 |  반복 1 / 2 | 시간 0[s] | 손실 0.56\n",
      "| 에폭 753 |  반복 1 / 2 | 시간 0[s] | 손실 0.45\n",
      "| 에폭 754 |  반복 1 / 2 | 시간 0[s] | 손실 0.67\n",
      "| 에폭 755 |  반복 1 / 2 | 시간 0[s] | 손실 0.45\n",
      "| 에폭 756 |  반복 1 / 2 | 시간 0[s] | 손실 0.67\n",
      "| 에폭 757 |  반복 1 / 2 | 시간 0[s] | 손실 0.45\n",
      "| 에폭 758 |  반복 1 / 2 | 시간 0[s] | 손실 0.62\n",
      "| 에폭 759 |  반복 1 / 2 | 시간 0[s] | 손실 0.48\n",
      "| 에폭 760 |  반복 1 / 2 | 시간 0[s] | 손실 0.63\n",
      "| 에폭 761 |  반복 1 / 2 | 시간 0[s] | 손실 0.61\n",
      "| 에폭 762 |  반복 1 / 2 | 시간 0[s] | 손실 0.39\n",
      "| 에폭 763 |  반복 1 / 2 | 시간 0[s] | 손실 0.61\n",
      "| 에폭 764 |  반복 1 / 2 | 시간 0[s] | 손실 0.68\n",
      "| 에폭 765 |  반복 1 / 2 | 시간 0[s] | 손실 0.62\n",
      "| 에폭 766 |  반복 1 / 2 | 시간 0[s] | 손실 0.26\n",
      "| 에폭 767 |  반복 1 / 2 | 시간 0[s] | 손실 0.69\n",
      "| 에폭 768 |  반복 1 / 2 | 시간 0[s] | 손실 0.66\n",
      "| 에폭 769 |  반복 1 / 2 | 시간 0[s] | 손실 0.62\n",
      "| 에폭 770 |  반복 1 / 2 | 시간 0[s] | 손실 0.38\n",
      "| 에폭 771 |  반복 1 / 2 | 시간 0[s] | 손실 0.61\n",
      "| 에폭 772 |  반복 1 / 2 | 시간 0[s] | 손실 0.57\n",
      "| 에폭 773 |  반복 1 / 2 | 시간 0[s] | 손실 0.48\n",
      "| 에폭 774 |  반복 1 / 2 | 시간 0[s] | 손실 0.55\n",
      "| 에폭 775 |  반복 1 / 2 | 시간 0[s] | 손실 0.55\n",
      "| 에폭 776 |  반복 1 / 2 | 시간 0[s] | 손실 0.62\n",
      "| 에폭 777 |  반복 1 / 2 | 시간 0[s] | 손실 0.49\n",
      "| 에폭 778 |  반복 1 / 2 | 시간 0[s] | 손실 0.55\n",
      "| 에폭 779 |  반복 1 / 2 | 시간 0[s] | 손실 0.63\n",
      "| 에폭 780 |  반복 1 / 2 | 시간 0[s] | 손실 0.48\n",
      "| 에폭 781 |  반복 1 / 2 | 시간 0[s] | 손실 0.44\n",
      "| 에폭 782 |  반복 1 / 2 | 시간 0[s] | 손실 0.79\n",
      "| 에폭 783 |  반복 1 / 2 | 시간 0[s] | 손실 0.43\n",
      "| 에폭 784 |  반복 1 / 2 | 시간 0[s] | 손실 0.55\n",
      "| 에폭 785 |  반복 1 / 2 | 시간 0[s] | 손실 0.67\n",
      "| 에폭 786 |  반복 1 / 2 | 시간 0[s] | 손실 0.49\n",
      "| 에폭 787 |  반복 1 / 2 | 시간 0[s] | 손실 0.67\n",
      "| 에폭 788 |  반복 1 / 2 | 시간 0[s] | 손실 0.55\n",
      "| 에폭 789 |  반복 1 / 2 | 시간 0[s] | 손실 0.49\n",
      "| 에폭 790 |  반복 1 / 2 | 시간 0[s] | 손실 0.32\n",
      "| 에폭 791 |  반복 1 / 2 | 시간 0[s] | 손실 0.61\n",
      "| 에폭 792 |  반복 1 / 2 | 시간 0[s] | 손실 0.60\n",
      "| 에폭 793 |  반복 1 / 2 | 시간 0[s] | 손실 0.55\n",
      "| 에폭 794 |  반복 1 / 2 | 시간 0[s] | 손실 0.74\n",
      "| 에폭 795 |  반복 1 / 2 | 시간 0[s] | 손실 0.43\n",
      "| 에폭 796 |  반복 1 / 2 | 시간 0[s] | 손실 0.60\n",
      "| 에폭 797 |  반복 1 / 2 | 시간 0[s] | 손실 0.55\n",
      "| 에폭 798 |  반복 1 / 2 | 시간 0[s] | 손실 0.38\n",
      "| 에폭 799 |  반복 1 / 2 | 시간 0[s] | 손실 0.72\n",
      "| 에폭 800 |  반복 1 / 2 | 시간 0[s] | 손실 0.31\n",
      "| 에폭 801 |  반복 1 / 2 | 시간 0[s] | 손실 0.55\n",
      "| 에폭 802 |  반복 1 / 2 | 시간 0[s] | 손실 0.78\n",
      "| 에폭 803 |  반복 1 / 2 | 시간 0[s] | 손실 0.61\n",
      "| 에폭 804 |  반복 1 / 2 | 시간 0[s] | 손실 0.37\n",
      "| 에폭 805 |  반복 1 / 2 | 시간 0[s] | 손실 0.56\n",
      "| 에폭 806 |  반복 1 / 2 | 시간 0[s] | 손실 0.48\n",
      "| 에폭 807 |  반복 1 / 2 | 시간 0[s] | 손실 0.54\n",
      "| 에폭 808 |  반복 1 / 2 | 시간 0[s] | 손실 0.59\n",
      "| 에폭 809 |  반복 1 / 2 | 시간 0[s] | 손실 0.61\n",
      "| 에폭 810 |  반복 1 / 2 | 시간 0[s] | 손실 0.43\n",
      "| 에폭 811 |  반복 1 / 2 | 시간 0[s] | 손실 0.54\n",
      "| 에폭 812 |  반복 1 / 2 | 시간 0[s] | 손실 0.66\n",
      "| 에폭 813 |  반복 1 / 2 | 시간 0[s] | 손실 0.48\n",
      "| 에폭 814 |  반복 1 / 2 | 시간 0[s] | 손실 0.66\n",
      "| 에폭 815 |  반복 1 / 2 | 시간 0[s] | 손실 0.54\n",
      "| 에폭 816 |  반복 1 / 2 | 시간 0[s] | 손실 0.42\n",
      "| 에폭 817 |  반복 1 / 2 | 시간 0[s] | 손실 0.66\n",
      "| 에폭 818 |  반복 1 / 2 | 시간 0[s] | 손실 0.54\n",
      "| 에폭 819 |  반복 1 / 2 | 시간 0[s] | 손실 0.54\n",
      "| 에폭 820 |  반복 1 / 2 | 시간 0[s] | 손실 0.37\n",
      "| 에폭 821 |  반복 1 / 2 | 시간 0[s] | 손실 0.48\n",
      "| 에폭 822 |  반복 1 / 2 | 시간 0[s] | 손실 0.84\n",
      "| 에폭 823 |  반복 1 / 2 | 시간 0[s] | 손실 0.47\n",
      "| 에폭 824 |  반복 1 / 2 | 시간 0[s] | 손실 0.37\n",
      "| 에폭 825 |  반복 1 / 2 | 시간 0[s] | 손실 0.54\n",
      "| 에폭 826 |  반복 1 / 2 | 시간 0[s] | 손실 0.54\n",
      "| 에폭 827 |  반복 1 / 2 | 시간 0[s] | 손실 0.59\n",
      "| 에폭 828 |  반복 1 / 2 | 시간 0[s] | 손실 0.59\n",
      "| 에폭 829 |  반복 1 / 2 | 시간 0[s] | 손실 0.49\n",
      "| 에폭 830 |  반복 1 / 2 | 시간 0[s] | 손실 0.61\n",
      "| 에폭 831 |  반복 1 / 2 | 시간 0[s] | 손실 0.42\n",
      "| 에폭 832 |  반복 1 / 2 | 시간 0[s] | 손실 0.66\n",
      "| 에폭 833 |  반복 1 / 2 | 시간 0[s] | 손실 0.47\n",
      "| 에폭 834 |  반복 1 / 2 | 시간 0[s] | 손실 0.65\n",
      "| 에폭 835 |  반복 1 / 2 | 시간 0[s] | 손실 0.49\n",
      "| 에폭 836 |  반복 1 / 2 | 시간 0[s] | 손실 0.58\n",
      "| 에폭 837 |  반복 1 / 2 | 시간 0[s] | 손실 0.54\n",
      "| 에폭 838 |  반복 1 / 2 | 시간 0[s] | 손실 0.37\n",
      "| 에폭 839 |  반복 1 / 2 | 시간 0[s] | 손실 0.77\n",
      "| 에폭 840 |  반복 1 / 2 | 시간 0[s] | 손실 0.47\n",
      "| 에폭 841 |  반복 1 / 2 | 시간 0[s] | 손실 0.30\n",
      "| 에폭 842 |  반복 1 / 2 | 시간 0[s] | 손실 0.53\n",
      "| 에폭 843 |  반복 1 / 2 | 시간 0[s] | 손실 0.77\n",
      "| 에폭 844 |  반복 1 / 2 | 시간 0[s] | 손실 0.53\n",
      "| 에폭 845 |  반복 1 / 2 | 시간 0[s] | 손실 0.42\n",
      "| 에폭 846 |  반복 1 / 2 | 시간 0[s] | 손실 0.49\n",
      "| 에폭 847 |  반복 1 / 2 | 시간 0[s] | 손실 0.63\n",
      "| 에폭 848 |  반복 1 / 2 | 시간 0[s] | 손실 0.48\n",
      "| 에폭 849 |  반복 1 / 2 | 시간 0[s] | 손실 0.54\n",
      "| 에폭 850 |  반복 1 / 2 | 시간 0[s] | 손실 0.65\n",
      "| 에폭 851 |  반복 1 / 2 | 시간 0[s] | 손실 0.48\n",
      "| 에폭 852 |  반복 1 / 2 | 시간 0[s] | 손실 0.42\n",
      "| 에폭 853 |  반복 1 / 2 | 시간 0[s] | 손실 0.46\n",
      "| 에폭 854 |  반복 1 / 2 | 시간 0[s] | 손실 0.65\n",
      "| 에폭 855 |  반복 1 / 2 | 시간 0[s] | 손실 0.71\n",
      "| 에폭 856 |  반복 1 / 2 | 시간 0[s] | 손실 0.41\n",
      "| 에폭 857 |  반복 1 / 2 | 시간 0[s] | 손실 0.65\n",
      "| 에폭 858 |  반복 1 / 2 | 시간 0[s] | 손실 0.41\n",
      "| 에폭 859 |  반복 1 / 2 | 시간 0[s] | 손실 0.46\n",
      "| 에폭 860 |  반복 1 / 2 | 시간 0[s] | 손실 0.58\n",
      "| 에폭 861 |  반복 1 / 2 | 시간 0[s] | 손실 0.55\n",
      "| 에폭 862 |  반복 1 / 2 | 시간 0[s] | 손실 0.53\n",
      "| 에폭 863 |  반복 1 / 2 | 시간 0[s] | 손실 0.48\n",
      "| 에폭 864 |  반복 1 / 2 | 시간 0[s] | 손실 0.51\n",
      "| 에폭 865 |  반복 1 / 2 | 시간 0[s] | 손실 0.59\n",
      "| 에폭 866 |  반복 1 / 2 | 시간 0[s] | 손실 0.35\n",
      "| 에폭 867 |  반복 1 / 2 | 시간 0[s] | 손실 0.71\n",
      "| 에폭 868 |  반복 1 / 2 | 시간 0[s] | 손실 0.46\n",
      "| 에폭 869 |  반복 1 / 2 | 시간 0[s] | 손실 0.48\n",
      "| 에폭 870 |  반복 1 / 2 | 시간 0[s] | 손실 0.57\n",
      "| 에폭 871 |  반복 1 / 2 | 시간 0[s] | 손실 0.41\n",
      "| 에폭 872 |  반복 1 / 2 | 시간 0[s] | 손실 0.71\n",
      "| 에폭 873 |  반복 1 / 2 | 시간 0[s] | 손실 0.41\n",
      "| 에폭 874 |  반복 1 / 2 | 시간 0[s] | 손실 0.62\n",
      "| 에폭 875 |  반복 1 / 2 | 시간 0[s] | 손실 0.43\n",
      "| 에폭 876 |  반복 1 / 2 | 시간 0[s] | 손실 0.64\n",
      "| 에폭 877 |  반복 1 / 2 | 시간 0[s] | 손실 0.57\n",
      "| 에폭 878 |  반복 1 / 2 | 시간 0[s] | 손실 0.52\n",
      "| 에폭 879 |  반복 1 / 2 | 시간 0[s] | 손실 0.52\n",
      "| 에폭 880 |  반복 1 / 2 | 시간 0[s] | 손실 0.41\n",
      "| 에폭 881 |  반복 1 / 2 | 시간 0[s] | 손실 0.48\n",
      "| 에폭 882 |  반복 1 / 2 | 시간 0[s] | 손실 0.68\n",
      "| 에폭 883 |  반복 1 / 2 | 시간 0[s] | 손실 0.41\n",
      "| 에폭 884 |  반복 1 / 2 | 시간 0[s] | 손실 0.64\n",
      "| 에폭 885 |  반복 1 / 2 | 시간 0[s] | 손실 0.36\n",
      "| 에폭 886 |  반복 1 / 2 | 시간 0[s] | 손실 0.64\n",
      "| 에폭 887 |  반복 1 / 2 | 시간 0[s] | 손실 0.41\n",
      "| 에폭 888 |  반복 1 / 2 | 시간 0[s] | 손실 0.68\n",
      "| 에폭 889 |  반복 1 / 2 | 시간 0[s] | 손실 0.47\n",
      "| 에폭 890 |  반복 1 / 2 | 시간 0[s] | 손실 0.45\n",
      "| 에폭 891 |  반복 1 / 2 | 시간 0[s] | 손실 0.63\n",
      "| 에폭 892 |  반복 1 / 2 | 시간 0[s] | 손실 0.47\n",
      "| 에폭 893 |  반복 1 / 2 | 시간 0[s] | 손실 0.52\n",
      "| 에폭 894 |  반복 1 / 2 | 시간 0[s] | 손실 0.34\n",
      "| 에폭 895 |  반복 1 / 2 | 시간 0[s] | 손실 0.63\n",
      "| 에폭 896 |  반복 1 / 2 | 시간 0[s] | 손실 0.59\n",
      "| 에폭 897 |  반복 1 / 2 | 시간 0[s] | 손실 0.52\n",
      "| 에폭 898 |  반복 1 / 2 | 시간 0[s] | 손실 0.63\n",
      "| 에폭 899 |  반복 1 / 2 | 시간 0[s] | 손실 0.40\n",
      "| 에폭 900 |  반복 1 / 2 | 시간 0[s] | 손실 0.52\n",
      "| 에폭 901 |  반복 1 / 2 | 시간 0[s] | 손실 0.56\n",
      "| 에폭 902 |  반복 1 / 2 | 시간 0[s] | 손실 0.52\n",
      "| 에폭 903 |  반복 1 / 2 | 시간 0[s] | 손실 0.47\n",
      "| 에폭 904 |  반복 1 / 2 | 시간 0[s] | 손실 0.52\n",
      "| 에폭 905 |  반복 1 / 2 | 시간 0[s] | 손실 0.34\n",
      "| 에폭 906 |  반복 1 / 2 | 시간 0[s] | 손실 0.70\n",
      "| 에폭 907 |  반복 1 / 2 | 시간 0[s] | 손실 0.56\n",
      "| 에폭 908 |  반복 1 / 2 | 시간 0[s] | 손실 0.51\n",
      "| 에폭 909 |  반복 1 / 2 | 시간 0[s] | 손실 0.47\n",
      "| 에폭 910 |  반복 1 / 2 | 시간 0[s] | 손실 0.62\n",
      "| 에폭 911 |  반복 1 / 2 | 시간 0[s] | 손실 0.29\n",
      "| 에폭 912 |  반복 1 / 2 | 시간 0[s] | 손실 0.60\n"
     ]
    },
    {
     "name": "stdout",
     "output_type": "stream",
     "text": [
      "| 에폭 913 |  반복 1 / 2 | 시간 0[s] | 손실 0.43\n",
      "| 에폭 914 |  반복 1 / 2 | 시간 0[s] | 손실 0.51\n",
      "| 에폭 915 |  반복 1 / 2 | 시간 0[s] | 손실 0.63\n",
      "| 에폭 916 |  반복 1 / 2 | 시간 0[s] | 손실 0.48\n",
      "| 에폭 917 |  반복 1 / 2 | 시간 0[s] | 손실 0.58\n",
      "| 에폭 918 |  반복 1 / 2 | 시간 0[s] | 손실 0.47\n",
      "| 에폭 919 |  반복 1 / 2 | 시간 0[s] | 손실 0.45\n",
      "| 에폭 920 |  반복 1 / 2 | 시간 0[s] | 손실 0.47\n",
      "| 에폭 921 |  반복 1 / 2 | 시간 0[s] | 손실 0.62\n",
      "| 에폭 922 |  반복 1 / 2 | 시간 0[s] | 손실 0.51\n",
      "| 에폭 923 |  반복 1 / 2 | 시간 0[s] | 손실 0.55\n",
      "| 에폭 924 |  반복 1 / 2 | 시간 0[s] | 손실 0.51\n",
      "| 에폭 925 |  반복 1 / 2 | 시간 0[s] | 손실 0.51\n",
      "| 에폭 926 |  반복 1 / 2 | 시간 0[s] | 손실 0.58\n",
      "| 에폭 927 |  반복 1 / 2 | 시간 0[s] | 손실 0.33\n",
      "| 에폭 928 |  반복 1 / 2 | 시간 0[s] | 손실 0.39\n",
      "| 에폭 929 |  반복 1 / 2 | 시간 0[s] | 손실 0.69\n",
      "| 에폭 930 |  반복 1 / 2 | 시간 0[s] | 손실 0.39\n",
      "| 에폭 931 |  반복 1 / 2 | 시간 0[s] | 손실 0.66\n",
      "| 에폭 932 |  반복 1 / 2 | 시간 0[s] | 손실 0.47\n",
      "| 에폭 933 |  반복 1 / 2 | 시간 0[s] | 손실 0.39\n",
      "| 에폭 934 |  반복 1 / 2 | 시간 0[s] | 손실 0.62\n",
      "| 에폭 935 |  반복 1 / 2 | 시간 0[s] | 손실 0.46\n",
      "| 에폭 936 |  반복 1 / 2 | 시간 0[s] | 손실 0.43\n",
      "| 에폭 937 |  반복 1 / 2 | 시간 0[s] | 손실 0.72\n",
      "| 에폭 938 |  반복 1 / 2 | 시간 0[s] | 손실 0.35\n",
      "| 에폭 939 |  반복 1 / 2 | 시간 0[s] | 손실 0.47\n",
      "| 에폭 940 |  반복 1 / 2 | 시간 0[s] | 손실 0.62\n",
      "| 에폭 941 |  반복 1 / 2 | 시간 0[s] | 손실 0.50\n",
      "| 에폭 942 |  반복 1 / 2 | 시간 0[s] | 손실 0.39\n",
      "| 에폭 943 |  반복 1 / 2 | 시간 0[s] | 손실 0.62\n",
      "| 에폭 944 |  반복 1 / 2 | 시간 0[s] | 손실 0.35\n",
      "| 에폭 945 |  반복 1 / 2 | 시간 0[s] | 손실 0.61\n",
      "| 에폭 946 |  반복 1 / 2 | 시간 0[s] | 손실 0.54\n",
      "| 에폭 947 |  반복 1 / 2 | 시간 0[s] | 손실 0.40\n",
      "| 에폭 948 |  반복 1 / 2 | 시간 0[s] | 손실 0.53\n",
      "| 에폭 949 |  반복 1 / 2 | 시간 0[s] | 손실 0.46\n",
      "| 에폭 950 |  반복 1 / 2 | 시간 0[s] | 손실 0.61\n",
      "| 에폭 951 |  반복 1 / 2 | 시간 0[s] | 손실 0.50\n",
      "| 에폭 952 |  반복 1 / 2 | 시간 0[s] | 손실 0.35\n",
      "| 에폭 953 |  반복 1 / 2 | 시간 0[s] | 손실 0.50\n",
      "| 에폭 954 |  반복 1 / 2 | 시간 0[s] | 손실 0.72\n",
      "| 에폭 955 |  반복 1 / 2 | 시간 0[s] | 손실 0.43\n",
      "| 에폭 956 |  반복 1 / 2 | 시간 0[s] | 손실 0.46\n",
      "| 에폭 957 |  반복 1 / 2 | 시간 0[s] | 손실 0.53\n",
      "| 에폭 958 |  반복 1 / 2 | 시간 0[s] | 손실 0.39\n",
      "| 에폭 959 |  반복 1 / 2 | 시간 0[s] | 손실 0.38\n",
      "| 에폭 960 |  반복 1 / 2 | 시간 0[s] | 손실 0.57\n",
      "| 에폭 961 |  반복 1 / 2 | 시간 0[s] | 손실 0.64\n",
      "| 에폭 962 |  반복 1 / 2 | 시간 0[s] | 손실 0.50\n",
      "| 에폭 963 |  반복 1 / 2 | 시간 0[s] | 손실 0.39\n",
      "| 에폭 964 |  반복 1 / 2 | 시간 0[s] | 손실 0.45\n",
      "| 에폭 965 |  반복 1 / 2 | 시간 0[s] | 손실 0.42\n",
      "| 에폭 966 |  반복 1 / 2 | 시간 0[s] | 손실 0.71\n",
      "| 에폭 967 |  반복 1 / 2 | 시간 0[s] | 손실 0.56\n",
      "| 에폭 968 |  반복 1 / 2 | 시간 0[s] | 손실 0.39\n",
      "| 에폭 969 |  반복 1 / 2 | 시간 0[s] | 손실 0.52\n",
      "| 에폭 970 |  반복 1 / 2 | 시간 0[s] | 손실 0.45\n",
      "| 에폭 971 |  반복 1 / 2 | 시간 0[s] | 손실 0.53\n",
      "| 에폭 972 |  반복 1 / 2 | 시간 0[s] | 손실 0.56\n",
      "| 에폭 973 |  반복 1 / 2 | 시간 0[s] | 손실 0.28\n",
      "| 에폭 974 |  반복 1 / 2 | 시간 0[s] | 손실 0.60\n",
      "| 에폭 975 |  반복 1 / 2 | 시간 0[s] | 손실 0.49\n",
      "| 에폭 976 |  반복 1 / 2 | 시간 0[s] | 손실 0.38\n",
      "| 에폭 977 |  반복 1 / 2 | 시간 0[s] | 손실 0.60\n",
      "| 에폭 978 |  반복 1 / 2 | 시간 0[s] | 손실 0.40\n",
      "| 에폭 979 |  반복 1 / 2 | 시간 0[s] | 손실 0.58\n",
      "| 에폭 980 |  반복 1 / 2 | 시간 0[s] | 손실 0.40\n",
      "| 에폭 981 |  반복 1 / 2 | 시간 0[s] | 손실 0.39\n",
      "| 에폭 982 |  반복 1 / 2 | 시간 0[s] | 손실 0.67\n",
      "| 에폭 983 |  반복 1 / 2 | 시간 0[s] | 손실 0.40\n",
      "| 에폭 984 |  반복 1 / 2 | 시간 0[s] | 손실 0.50\n",
      "| 에폭 985 |  반복 1 / 2 | 시간 0[s] | 손실 0.66\n",
      "| 에폭 986 |  반복 1 / 2 | 시간 0[s] | 손실 0.27\n",
      "| 에폭 987 |  반복 1 / 2 | 시간 0[s] | 손실 0.63\n",
      "| 에폭 988 |  반복 1 / 2 | 시간 0[s] | 손실 0.48\n",
      "| 에폭 989 |  반복 1 / 2 | 시간 0[s] | 손실 0.37\n",
      "| 에폭 990 |  반복 1 / 2 | 시간 0[s] | 손실 0.50\n",
      "| 에폭 991 |  반복 1 / 2 | 시간 0[s] | 손실 0.56\n",
      "| 에폭 992 |  반복 1 / 2 | 시간 0[s] | 손실 0.37\n",
      "| 에폭 993 |  반복 1 / 2 | 시간 0[s] | 손실 0.58\n",
      "| 에폭 994 |  반복 1 / 2 | 시간 0[s] | 손실 0.52\n",
      "| 에폭 995 |  반복 1 / 2 | 시간 0[s] | 손실 0.56\n",
      "| 에폭 996 |  반복 1 / 2 | 시간 0[s] | 손실 0.27\n",
      "| 에폭 997 |  반복 1 / 2 | 시간 0[s] | 손실 0.48\n",
      "| 에폭 998 |  반복 1 / 2 | 시간 0[s] | 손실 0.62\n",
      "| 에폭 999 |  반복 1 / 2 | 시간 0[s] | 손실 0.46\n",
      "| 에폭 1000 |  반복 1 / 2 | 시간 0[s] | 손실 0.50\n"
     ]
    },
    {
     "data": {
      "image/png": "[encoded data removed]",
      "text/plain": [
       "<Figure size 432x288 with 1 Axes>"
      ]
     },
     "metadata": {
      "image/png": {
       "height": 264,
       "width": 389
      },
      "needs_background": "light"
     },
     "output_type": "display_data"
    },
    {
     "name": "stdout",
     "output_type": "stream",
     "text": [
      "you [ 1.111 -0.793 -1.489 -1.183 -0.83 ]\n",
      "say [-0.177  1.282 -0.111 -0.027  1.283]\n",
      "goodbye [ 0.737 -0.998 -0.127 -0.874 -1.019]\n",
      "and [-1.33   1.089  1.374 -1.556  1.086]\n",
      "i [ 0.72  -0.989 -0.143 -0.855 -1.013]\n",
      "hello [ 1.099 -0.784 -1.507 -1.189 -0.833]\n",
      ". [ 1.281  1.084 -1.204  1.235  1.027]\n"
     ]
    }
   ],
   "source": [
    "window_size = 1\n",
    "hidden_size = 5\n",
    "batch_size = 3\n",
    "max_epoch = 1000\n",
    "\n",
    "text = 'You say goodbye and I say hello.'\n",
    "corpus, word_to_id, id_to_word = preprocess(text)\n",
    "\n",
    "vocab_size = len(word_to_id) # 7\n",
    "contexts, target = create_contexts_target(corpus, window_size)\n",
    "target = convert_one_hot(target, vocab_size)\n",
    "contexts = convert_one_hot(contexts, vocab_size)\n",
    "model = SimpleCBOW(vocab_size, hidden_size)\n",
    "optimizer = Adam()\n",
    "trainer = Trainer(model, optimizer)\n",
    "\n",
    "trainer.fit(contexts, target, max_epoch, batch_size)\n",
    "trainer.plot()\n",
    "\n",
    "word_vecs = model.word_vecs\n",
    "for word_id, word in id_to_word.items():\n",
    "    print(word, word_vecs[word_id])"
   ]
  },
  {
   "cell_type": "markdown",
   "id": "d2c1d261",
   "metadata": {},
   "source": [
    "# word2vec 개선"
   ]
  },
  {
   "cell_type": "code",
   "execution_count": 74,
   "id": "a950a8c5",
   "metadata": {
    "ExecuteTime": {
     "end_time": "2023-10-26T09:58:15.560991Z",
     "start_time": "2023-10-26T09:58:15.542691Z"
    }
   },
   "outputs": [],
   "source": [
    "class Embedding:\n",
    "    def __init__(self, W):\n",
    "        self.params = [W]\n",
    "        self.grads = [np.zeros_like(W)]\n",
    "        self.idx = None\n",
    "\n",
    "    def forward(self, idx):\n",
    "        W, = self.params\n",
    "        self.idx = idx\n",
    "        out = W[idx]\n",
    "        return out\n",
    "\n",
    "    def backward(self, dout):\n",
    "        dW, = self.grads\n",
    "        dW[...] = 0\n",
    "        np.add.at(dW, self.idx, dout)\n",
    "        return None"
   ]
  },
  {
   "cell_type": "code",
   "execution_count": 75,
   "id": "357d3bd6",
   "metadata": {
    "ExecuteTime": {
     "end_time": "2023-10-26T09:58:20.726803Z",
     "start_time": "2023-10-26T09:58:20.707688Z"
    }
   },
   "outputs": [],
   "source": [
    "class EmbeddingDot:\n",
    "    def __init__(self, W):\n",
    "        self.embed = Embedding(W)\n",
    "        self.params = self.embed.params\n",
    "        self.grads = self.embed.grads\n",
    "        self.cache = None\n",
    "\n",
    "    def forward(self, h, idx):\n",
    "        target_W = self.embed.forward(idx)\n",
    "        out = np.sum(target_W * h, axis=1)\n",
    "\n",
    "        self.cache = (h, target_W)\n",
    "        return out\n",
    "\n",
    "    def backward(self, dout):\n",
    "        h, target_W = self.cache\n",
    "        dout = dout.reshape(dout.shape[0], 1)\n",
    "\n",
    "        dtarget_W = dout * h\n",
    "        self.embed.backward(dtarget_W)\n",
    "        dh = dout * target_W\n",
    "        return dh"
   ]
  },
  {
   "cell_type": "code",
   "execution_count": 88,
   "id": "09f05b09",
   "metadata": {
    "ExecuteTime": {
     "end_time": "2023-10-26T10:01:35.495743Z",
     "start_time": "2023-10-26T10:01:35.481697Z"
    }
   },
   "outputs": [],
   "source": [
    "import collections"
   ]
  },
  {
   "cell_type": "code",
   "execution_count": 76,
   "id": "ed7ca9ef",
   "metadata": {
    "ExecuteTime": {
     "end_time": "2023-10-26T09:58:30.124099Z",
     "start_time": "2023-10-26T09:58:30.109179Z"
    }
   },
   "outputs": [],
   "source": [
    "class UnigramSampler:\n",
    "    def __init__(self, corpus, power, sample_size):\n",
    "        self.sample_size = sample_size\n",
    "        self.vocab_size = None\n",
    "        self.word_p = None\n",
    "\n",
    "        counts = collections.Counter()\n",
    "        for word_id in corpus:\n",
    "            counts[word_id] += 1\n",
    "\n",
    "        vocab_size = len(counts)\n",
    "        self.vocab_size = vocab_size\n",
    "\n",
    "        self.word_p = np.zeros(vocab_size)\n",
    "        for i in range(vocab_size):\n",
    "            self.word_p[i] = counts[i]\n",
    "\n",
    "        self.word_p = np.power(self.word_p, power)\n",
    "        self.word_p /= np.sum(self.word_p)\n",
    "\n",
    "    def get_negative_sample(self, target):\n",
    "        batch_size = target.shape[0]\n",
    "\n",
    "        if not GPU:\n",
    "            negative_sample = np.zeros((batch_size, self.sample_size), dtype=np.int32)\n",
    "\n",
    "            for i in range(batch_size):\n",
    "                p = self.word_p.copy()\n",
    "                target_idx = target[i]\n",
    "                p[target_idx] = 0\n",
    "                p /= p.sum()\n",
    "                negative_sample[i, :] = np.random.choice(self.vocab_size, size=self.sample_size, replace=False, p=p)\n",
    "        else:\n",
    "            # GPU(cupy）로 계산할 때는 속도를 우선한다.\n",
    "            # 부정적 예에 타깃이 포함될 수 있다.\n",
    "            negative_sample = np.random.choice(self.vocab_size, size=(batch_size, self.sample_size),\n",
    "                                               replace=True, p=self.word_p)\n",
    "\n",
    "        return negative_sample"
   ]
  },
  {
   "cell_type": "code",
   "execution_count": 89,
   "id": "bd4bc7c3",
   "metadata": {
    "ExecuteTime": {
     "end_time": "2023-10-26T10:01:58.340170Z",
     "start_time": "2023-10-26T10:01:58.323718Z"
    }
   },
   "outputs": [],
   "source": [
    "class SigmoidWithLoss:\n",
    "    def __init__(self):\n",
    "        self.params, self.grads = [], []\n",
    "        self.loss = None\n",
    "        self.y = None  # sigmoid의 출력\n",
    "        self.t = None  # 정답 데이터\n",
    "\n",
    "    def forward(self, x, t):\n",
    "        self.t = t\n",
    "        self.y = 1 / (1 + np.exp(-x))\n",
    "\n",
    "        self.loss = cross_entropy_error(np.c_[1 - self.y, self.y], self.t)\n",
    "\n",
    "        return self.loss\n",
    "\n",
    "    def backward(self, dout=1):\n",
    "        batch_size = self.t.shape[0]\n",
    "\n",
    "        dx = (self.y - self.t) * dout / batch_size\n",
    "        return dx"
   ]
  },
  {
   "cell_type": "code",
   "execution_count": 90,
   "id": "43aba601",
   "metadata": {
    "ExecuteTime": {
     "end_time": "2023-10-26T10:01:58.605411Z",
     "start_time": "2023-10-26T10:01:58.591145Z"
    }
   },
   "outputs": [],
   "source": [
    "class NegativeSamplingLoss:\n",
    "    def __init__(self, W, corpus, power=0.75, sample_size=5):\n",
    "        self.sample_size = sample_size\n",
    "        self.sampler = UnigramSampler(corpus, power, sample_size)\n",
    "        self.loss_layers = [SigmoidWithLoss() for _ in range(sample_size + 1)]\n",
    "        self.embed_dot_layers = [EmbeddingDot(W) for _ in range(sample_size + 1)]\n",
    "\n",
    "        self.params, self.grads = [], []\n",
    "        for layer in self.embed_dot_layers:\n",
    "            self.params += layer.params\n",
    "            self.grads += layer.grads\n",
    "\n",
    "    def forward(self, h, target):\n",
    "        batch_size = target.shape[0]\n",
    "        negative_sample = self.sampler.get_negative_sample(target)\n",
    "\n",
    "        # 긍정적 예 순전파\n",
    "        score = self.embed_dot_layers[0].forward(h, target)\n",
    "        correct_label = np.ones(batch_size, dtype=np.int32)\n",
    "        loss = self.loss_layers[0].forward(score, correct_label)\n",
    "\n",
    "        # 부정적 예 순전파\n",
    "        negative_label = np.zeros(batch_size, dtype=np.int32)\n",
    "        for i in range(self.sample_size):\n",
    "            negative_target = negative_sample[:, i]\n",
    "            score = self.embed_dot_layers[1 + i].forward(h, negative_target)\n",
    "            loss += self.loss_layers[1 + i].forward(score, negative_label)\n",
    "\n",
    "        return loss\n",
    "\n",
    "    def backward(self, dout=1):\n",
    "        dh = 0\n",
    "        for l0, l1 in zip(self.loss_layers, self.embed_dot_layers):\n",
    "            dscore = l0.backward(dout)\n",
    "            dh += l1.backward(dscore)\n",
    "\n",
    "        return dh"
   ]
  },
  {
   "cell_type": "code",
   "execution_count": 91,
   "id": "95135be8",
   "metadata": {
    "ExecuteTime": {
     "end_time": "2023-10-26T10:01:58.934789Z",
     "start_time": "2023-10-26T10:01:58.910664Z"
    }
   },
   "outputs": [],
   "source": [
    "class CBOW:\n",
    "    def __init__(self, vocab_size, hidden_size, window_size, corpus):\n",
    "        V, H = vocab_size, hidden_size\n",
    "\n",
    "        # 가중치 초기화\n",
    "        W_in = 0.01 * np.random.randn(V, H).astype('f')\n",
    "        W_out = 0.01 * np.random.randn(V, H).astype('f')\n",
    "\n",
    "        # 계층 생성\n",
    "        self.in_layers = []\n",
    "        for i in range(2 * window_size):\n",
    "            layer = Embedding(W_in)  # Embedding 계층 사용\n",
    "            self.in_layers.append(layer)\n",
    "        self.ns_loss = NegativeSamplingLoss(W_out, corpus, power=0.75, sample_size=5)\n",
    "\n",
    "        # 모든 가중치와 기울기를 배열에 모은다.\n",
    "        layers = self.in_layers + [self.ns_loss]\n",
    "        self.params, self.grads = [], []\n",
    "        for layer in layers:\n",
    "            self.params += layer.params\n",
    "            self.grads += layer.grads\n",
    "\n",
    "        # 인스턴스 변수에 단어의 분산 표현을 저장한다.\n",
    "        self.word_vecs = W_in\n",
    "\n",
    "    def forward(self, contexts, target):\n",
    "        h = 0\n",
    "        for i, layer in enumerate(self.in_layers):\n",
    "            h += layer.forward(contexts[:, i])\n",
    "        h *= 1 / len(self.in_layers)\n",
    "        loss = self.ns_loss.forward(h, target)\n",
    "        return loss\n",
    "\n",
    "    def backward(self, dout=1):\n",
    "        dout = self.ns_loss.backward(dout)\n",
    "        dout *= 1 / len(self.in_layers)\n",
    "        for layer in self.in_layers:\n",
    "            layer.backward(dout)\n",
    "        return None"
   ]
  },
  {
   "cell_type": "code",
   "execution_count": 127,
   "id": "2d23eae6",
   "metadata": {
    "ExecuteTime": {
     "end_time": "2023-10-26T10:08:07.535559Z",
     "start_time": "2023-10-26T10:08:07.523540Z"
    }
   },
   "outputs": [],
   "source": [
    "import sys\n",
    "sys.path.append('..')"
   ]
  },
  {
   "cell_type": "code",
   "execution_count": 128,
   "id": "db1f1cde",
   "metadata": {
    "ExecuteTime": {
     "end_time": "2023-10-26T10:08:07.909384Z",
     "start_time": "2023-10-26T10:08:07.891478Z"
    }
   },
   "outputs": [],
   "source": [
    "from dataset import ptb"
   ]
  },
  {
   "cell_type": "code",
   "execution_count": 101,
   "id": "220a0825",
   "metadata": {
    "ExecuteTime": {
     "end_time": "2023-10-26T10:02:31.429799Z",
     "start_time": "2023-10-26T10:02:31.413412Z"
    }
   },
   "outputs": [],
   "source": [
    "GPU = False"
   ]
  },
  {
   "cell_type": "code",
   "execution_count": 129,
   "id": "49dedaeb",
   "metadata": {
    "ExecuteTime": {
     "end_time": "2023-10-26T10:10:01.978653Z",
     "start_time": "2023-10-26T10:10:01.972140Z"
    }
   },
   "outputs": [],
   "source": [
    "# 하이퍼파라미터 설정\n",
    "window_size = 5\n",
    "hidden_size = 10\n",
    "batch_size = 10\n",
    "max_epoch = 1"
   ]
  },
  {
   "cell_type": "code",
   "execution_count": 130,
   "id": "ec42e322",
   "metadata": {
    "ExecuteTime": {
     "end_time": "2023-10-26T10:10:08.351166Z",
     "start_time": "2023-10-26T10:10:08.310267Z"
    }
   },
   "outputs": [],
   "source": [
    "# 데이터 읽기\n",
    "corpus, word_to_id, id_to_word = ptb.load_data('train')\n",
    "vocab_size = len(word_to_id)"
   ]
  },
  {
   "cell_type": "code",
   "execution_count": 132,
   "id": "a768c300",
   "metadata": {
    "ExecuteTime": {
     "end_time": "2023-10-26T10:10:37.691836Z",
     "start_time": "2023-10-26T10:10:29.498231Z"
    }
   },
   "outputs": [],
   "source": [
    "contexts, target = create_contexts_target(corpus, window_size)"
   ]
  },
  {
   "cell_type": "code",
   "execution_count": 133,
   "id": "734f7e98",
   "metadata": {
    "ExecuteTime": {
     "end_time": "2023-10-26T10:10:45.474404Z",
     "start_time": "2023-10-26T10:10:45.023384Z"
    }
   },
   "outputs": [],
   "source": [
    "model = CBOW(vocab_size, hidden_size, window_size, corpus)\n",
    "optimizer = Adam()\n",
    "trainer = Trainer(model, optimizer)"
   ]
  },
  {
   "cell_type": "code",
   "execution_count": 134,
   "id": "fe4e6fe5",
   "metadata": {
    "ExecuteTime": {
     "end_time": "2023-10-26T10:10:57.135807Z",
     "start_time": "2023-10-26T10:10:52.275110Z"
    }
   },
   "outputs": [
    {
     "name": "stdout",
     "output_type": "stream",
     "text": [
      "| 에폭 1 |  반복 1 / 92957 | 시간 0[s] | 손실 4.16\n",
      "| 에폭 1 |  반복 21 / 92957 | 시간 0[s] | 손실 4.16\n",
      "| 에폭 1 |  반복 41 / 92957 | 시간 0[s] | 손실 4.16\n",
      "| 에폭 1 |  반복 61 / 92957 | 시간 0[s] | 손실 4.16\n",
      "| 에폭 1 |  반복 81 / 92957 | 시간 0[s] | 손실 4.16\n",
      "| 에폭 1 |  반복 101 / 92957 | 시간 1[s] | 손실 4.16\n",
      "| 에폭 1 |  반복 121 / 92957 | 시간 1[s] | 손실 4.16\n",
      "| 에폭 1 |  반복 141 / 92957 | 시간 1[s] | 손실 4.15\n",
      "| 에폭 1 |  반복 161 / 92957 | 시간 1[s] | 손실 4.15\n",
      "| 에폭 1 |  반복 181 / 92957 | 시간 1[s] | 손실 4.15\n",
      "| 에폭 1 |  반복 201 / 92957 | 시간 2[s] | 손실 4.14\n",
      "| 에폭 1 |  반복 221 / 92957 | 시간 2[s] | 손실 4.13\n",
      "| 에폭 1 |  반복 241 / 92957 | 시간 2[s] | 손실 4.13\n",
      "| 에폭 1 |  반복 261 / 92957 | 시간 2[s] | 손실 4.11\n",
      "| 에폭 1 |  반복 281 / 92957 | 시간 2[s] | 손실 4.10\n",
      "| 에폭 1 |  반복 301 / 92957 | 시간 2[s] | 손실 4.09\n",
      "| 에폭 1 |  반복 321 / 92957 | 시간 3[s] | 손실 4.08\n",
      "| 에폭 1 |  반복 341 / 92957 | 시간 3[s] | 손실 4.06\n",
      "| 에폭 1 |  반복 361 / 92957 | 시간 3[s] | 손실 4.04\n",
      "| 에폭 1 |  반복 381 / 92957 | 시간 3[s] | 손실 4.04\n",
      "| 에폭 1 |  반복 401 / 92957 | 시간 3[s] | 손실 4.02\n",
      "| 에폭 1 |  반복 421 / 92957 | 시간 4[s] | 손실 4.00\n",
      "| 에폭 1 |  반복 441 / 92957 | 시간 4[s] | 손실 3.99\n",
      "| 에폭 1 |  반복 461 / 92957 | 시간 4[s] | 손실 3.95\n",
      "| 에폭 1 |  반복 481 / 92957 | 시간 4[s] | 손실 3.94\n"
     ]
    },
    {
     "ename": "KeyboardInterrupt",
     "evalue": "",
     "output_type": "error",
     "traceback": [
      "\u001b[1;31m------------------------------------------------\u001b[0m",
      "\u001b[1;31mKeyboardInterrupt\u001b[0mTraceback (most recent call last)",
      "Input \u001b[1;32mIn [134]\u001b[0m, in \u001b[0;36m<cell line: 2>\u001b[1;34m()\u001b[0m\n\u001b[0;32m      1\u001b[0m \u001b[38;5;66;03m# 학습 시작\u001b[39;00m\n\u001b[1;32m----> 2\u001b[0m \u001b[43mtrainer\u001b[49m\u001b[38;5;241;43m.\u001b[39;49m\u001b[43mfit\u001b[49m\u001b[43m(\u001b[49m\u001b[43mcontexts\u001b[49m\u001b[43m,\u001b[49m\u001b[43m \u001b[49m\u001b[43mtarget\u001b[49m\u001b[43m,\u001b[49m\u001b[43m \u001b[49m\u001b[43mmax_epoch\u001b[49m\u001b[43m,\u001b[49m\u001b[43m \u001b[49m\u001b[43mbatch_size\u001b[49m\u001b[43m)\u001b[49m\n\u001b[0;32m      3\u001b[0m trainer\u001b[38;5;241m.\u001b[39mplot()\n\u001b[0;32m      5\u001b[0m \u001b[38;5;66;03m# 나중에 사용할 수 있도록 필요한 데이터 저장\u001b[39;00m\n",
      "Input \u001b[1;32mIn [71]\u001b[0m, in \u001b[0;36mTrainer.fit\u001b[1;34m(self, x, t, max_epoch, batch_size, max_grad, eval_interval)\u001b[0m\n\u001b[0;32m     29\u001b[0m loss \u001b[38;5;241m=\u001b[39m model\u001b[38;5;241m.\u001b[39mforward(batch_x, batch_t)\n\u001b[0;32m     30\u001b[0m model\u001b[38;5;241m.\u001b[39mbackward()\n\u001b[1;32m---> 31\u001b[0m params, grads \u001b[38;5;241m=\u001b[39m \u001b[43mremove_duplicate\u001b[49m\u001b[43m(\u001b[49m\u001b[43mmodel\u001b[49m\u001b[38;5;241;43m.\u001b[39;49m\u001b[43mparams\u001b[49m\u001b[43m,\u001b[49m\u001b[43m \u001b[49m\u001b[43mmodel\u001b[49m\u001b[38;5;241;43m.\u001b[39;49m\u001b[43mgrads\u001b[49m\u001b[43m)\u001b[49m  \u001b[38;5;66;03m# 공유된 가중치를 하나로 모음\u001b[39;00m\n\u001b[0;32m     32\u001b[0m \u001b[38;5;28;01mif\u001b[39;00m max_grad \u001b[38;5;129;01mis\u001b[39;00m \u001b[38;5;129;01mnot\u001b[39;00m \u001b[38;5;28;01mNone\u001b[39;00m:\n\u001b[0;32m     33\u001b[0m     clip_grads(grads, max_grad)\n",
      "Input \u001b[1;32mIn [70]\u001b[0m, in \u001b[0;36mremove_duplicate\u001b[1;34m(params, grads)\u001b[0m\n\u001b[0;32m     13\u001b[0m \u001b[38;5;28;01mfor\u001b[39;00m j \u001b[38;5;129;01min\u001b[39;00m \u001b[38;5;28mrange\u001b[39m(i \u001b[38;5;241m+\u001b[39m \u001b[38;5;241m1\u001b[39m, L):\n\u001b[0;32m     14\u001b[0m     \u001b[38;5;66;03m# 가중치 공유 시\u001b[39;00m\n\u001b[0;32m     15\u001b[0m     \u001b[38;5;28;01mif\u001b[39;00m params[i] \u001b[38;5;129;01mis\u001b[39;00m params[j]:\n\u001b[1;32m---> 16\u001b[0m         grads[i] \u001b[38;5;241m+\u001b[39m\u001b[38;5;241m=\u001b[39m grads[j]  \u001b[38;5;66;03m# 경사를 더함\u001b[39;00m\n\u001b[0;32m     17\u001b[0m         find_flg \u001b[38;5;241m=\u001b[39m \u001b[38;5;28;01mTrue\u001b[39;00m\n\u001b[0;32m     18\u001b[0m         params\u001b[38;5;241m.\u001b[39mpop(j)\n",
      "\u001b[1;31mKeyboardInterrupt\u001b[0m: "
     ]
    }
   ],
   "source": [
    "# 학습 시작\n",
    "trainer.fit(contexts, target, max_epoch, batch_size)\n",
    "trainer.plot()\n",
    "\n",
    "# 나중에 사용할 수 있도록 필요한 데이터 저장\n",
    "word_vecs = model.word_vecs\n",
    "if GPU:\n",
    "    word_vecs = to_cpu(word_vecs)\n",
    "params = {}\n",
    "params['word_vecs'] = word_vecs.astype(np.float16)\n",
    "params['word_to_id'] = word_to_id\n",
    "params['id_to_word'] = id_to_word"
   ]
  },
  {
   "cell_type": "markdown",
   "id": "12fd9235",
   "metadata": {},
   "source": [
    "## 모델 저장"
   ]
  },
  {
   "cell_type": "code",
   "execution_count": 121,
   "id": "4b4df1d8",
   "metadata": {
    "ExecuteTime": {
     "end_time": "2023-10-26T10:06:55.356983Z",
     "start_time": "2023-10-26T10:06:55.344558Z"
    }
   },
   "outputs": [
    {
     "name": "stdout",
     "output_type": "stream",
     "text": [
      "\n",
      "[query] you\n",
      " .: 0.8373674750328064\n",
      " hello: 0.5178484320640564\n",
      " and: 0.25625869631767273\n",
      " say: -0.13371151685714722\n",
      " i: -0.1566522717475891\n"
     ]
    }
   ],
   "source": [
    "pkl_file = 'cbow_params.pkl'  # or 'skipgram_params.pkl'\n",
    "with open(pkl_file, 'wb') as f:\n",
    "    pickle.dump(params, f, -1)"
   ]
  },
  {
   "cell_type": "code",
   "execution_count": null,
   "id": "b6a8932f",
   "metadata": {},
   "outputs": [],
   "source": []
  }
 ],
 "metadata": {
  "hide_input": false,
  "kernelspec": {
   "display_name": "Python 3 (ipykernel)",
   "language": "python",
   "name": "python3"
  },
  "language_info": {
   "codemirror_mode": {
    "name": "ipython",
    "version": 3
   },
   "file_extension": ".py",
   "mimetype": "text/x-python",
   "name": "python",
   "nbconvert_exporter": "python",
   "pygments_lexer": "ipython3",
   "version": "3.9.12"
  },
  "toc": {
   "base_numbering": 1,
   "nav_menu": {},
   "number_sections": true,
   "sideBar": true,
   "skip_h1_title": false,
   "title_cell": "Table of Contents",
   "title_sidebar": "Contents",
   "toc_cell": false,
   "toc_position": {},
   "toc_section_display": true,
   "toc_window_display": true
  },
  "varInspector": {
   "cols": {
    "lenName": 16,
    "lenType": 16,
    "lenVar": 40
   },
   "kernels_config": {
    "python": {
     "delete_cmd_postfix": "",
     "delete_cmd_prefix": "del ",
     "library": "var_list.py",
     "varRefreshCmd": "print(var_dic_list())"
    },
    "r": {
     "delete_cmd_postfix": ") ",
     "delete_cmd_prefix": "rm(",
     "library": "var_list.r",
     "varRefreshCmd": "cat(var_dic_list()) "
    }
   },
   "types_to_exclude": [
    "module",
    "function",
    "builtin_function_or_method",
    "instance",
    "_Feature"
   ],
   "window_display": false
  }
 },
 "nbformat": 4,
 "nbformat_minor": 5
}
